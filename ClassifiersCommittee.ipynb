{
  "cells": [
    {
      "cell_type": "markdown",
      "metadata": {
        "id": "view-in-github",
        "colab_type": "text"
      },
      "source": [
        "<a href=\"https://colab.research.google.com/github/mariaclaraseixa/n1-machineneyarning/blob/main/ClassifiersCommittee.ipynb\" target=\"_parent\"><img src=\"https://colab.research.google.com/assets/colab-badge.svg\" alt=\"Open In Colab\"/></a>"
      ]
    },
    {
      "cell_type": "markdown",
      "metadata": {
        "id": "V58fMvJnRk_O"
      },
      "source": [
        "# Comitê de Classificadores | Projeto N1\n",
        "\n",
        "**GitHub: https://github.com/MachineNeyarning/ClassifiersCommittee**\n",
        "\n",
        "---\n",
        "\n",
        "## Grupo:\n",
        "- Gustavo Henrique Martins\n",
        "- Ícaro Botelho\n",
        "- Maria Clara Seixa Scheffel\n",
        "- Maruan Biasi El Achkar\n",
        "- Ricardo Falcão Schlieper\n",
        "\n",
        "### Dataset escolhido: Rain in Australia\n",
        "- Detalhamento de colunas em: https://github.com/MachineNeyarning/ClassifiersCommittee/tree/main/dataset\n",
        "- Fonte: https://www.kaggle.com/datasets/jsphyg/weather-dataset-rattle-package\n",
        "- Target: RainTomorrow\n",
        "\n",
        "### Algoritmos escolhidos:\n",
        "- K-Nearest Neighbors (KNN)\n",
        "- Decision Tree Classifier (Tree-Based)\n",
        "- Random Forest Classifier (Tree-Based)\n",
        "- LightGBM Classifier (Tree-Based)\n",
        "- CatBoost Classifier (Tree-Based)\n",
        "- Gaussian Naive Bayes (Naive Bayes)\n",
        "- Support Vector Classification (SVC)\n",
        "- Multi-Layer Perceptron (MLPClassifier)\n",
        "- AdaBoost Classifier (Ensemble Methods)\n",
        "- Quadratic Discriminant Analysis (QDA)\n",
        "\n"
      ]
    },
    {
      "cell_type": "markdown",
      "metadata": {
        "id": "WH-an9SDiUwj"
      },
      "source": [
        "---\n",
        "# Preparar Dataset"
      ]
    },
    {
      "cell_type": "code",
      "execution_count": null,
      "metadata": {
        "colab": {
          "base_uri": "https://localhost:8080/"
        },
        "id": "dcIR7kOZRhZh",
        "outputId": "6ad3a981-2bf7-4f71-b3e9-774223dae67f"
      },
      "outputs": [
        {
          "output_type": "stream",
          "name": "stdout",
          "text": [
            "Downloading from https://www.kaggle.com/api/v1/datasets/download/jsphyg/weather-dataset-rattle-package?dataset_version_number=2...\n"
          ]
        },
        {
          "output_type": "stream",
          "name": "stderr",
          "text": [
            "100%|██████████| 3.83M/3.83M [00:00<00:00, 36.6MB/s]"
          ]
        },
        {
          "output_type": "stream",
          "name": "stdout",
          "text": [
            "Extracting files...\n"
          ]
        },
        {
          "output_type": "stream",
          "name": "stderr",
          "text": [
            "\n"
          ]
        }
      ],
      "source": [
        "# Baixar Dataset\n",
        "\n",
        "import kagglehub\n",
        "import os\n",
        "\n",
        "path = kagglehub.dataset_download(\"jsphyg/weather-dataset-rattle-package\")\n",
        "csv_path = os.path.join(path, 'weatherAUS.csv')\n"
      ]
    },
    {
      "cell_type": "code",
      "execution_count": null,
      "metadata": {
        "colab": {
          "base_uri": "https://localhost:8080/",
          "height": 245
        },
        "id": "HaL6t3NUTGFd",
        "outputId": "c4d63d6d-ba0f-46cc-9128-7f3ef3abbe8f"
      },
      "outputs": [
        {
          "output_type": "execute_result",
          "data": {
            "text/plain": [
              "         Date Location  MinTemp  MaxTemp  Rainfall  Evaporation  Sunshine  \\\n",
              "0  2008-12-01   Albury     13.4     22.9       0.6          NaN       NaN   \n",
              "1  2008-12-02   Albury      7.4     25.1       0.0          NaN       NaN   \n",
              "2  2008-12-03   Albury     12.9     25.7       0.0          NaN       NaN   \n",
              "\n",
              "  WindGustDir  WindGustSpeed WindDir9am  ... Humidity9am  Humidity3pm  \\\n",
              "0           W           44.0          W  ...        71.0         22.0   \n",
              "1         WNW           44.0        NNW  ...        44.0         25.0   \n",
              "2         WSW           46.0          W  ...        38.0         30.0   \n",
              "\n",
              "   Pressure9am  Pressure3pm  Cloud9am  Cloud3pm  Temp9am  Temp3pm  RainToday  \\\n",
              "0       1007.7       1007.1       8.0       NaN     16.9     21.8         No   \n",
              "1       1010.6       1007.8       NaN       NaN     17.2     24.3         No   \n",
              "2       1007.6       1008.7       NaN       2.0     21.0     23.2         No   \n",
              "\n",
              "   RainTomorrow  \n",
              "0            No  \n",
              "1            No  \n",
              "2            No  \n",
              "\n",
              "[3 rows x 23 columns]"
            ],
            "text/html": [
              "\n",
              "  <div id=\"df-5209c34e-c5a7-4e17-a25c-ecc2913949c6\" class=\"colab-df-container\">\n",
              "    <div>\n",
              "<style scoped>\n",
              "    .dataframe tbody tr th:only-of-type {\n",
              "        vertical-align: middle;\n",
              "    }\n",
              "\n",
              "    .dataframe tbody tr th {\n",
              "        vertical-align: top;\n",
              "    }\n",
              "\n",
              "    .dataframe thead th {\n",
              "        text-align: right;\n",
              "    }\n",
              "</style>\n",
              "<table border=\"1\" class=\"dataframe\">\n",
              "  <thead>\n",
              "    <tr style=\"text-align: right;\">\n",
              "      <th></th>\n",
              "      <th>Date</th>\n",
              "      <th>Location</th>\n",
              "      <th>MinTemp</th>\n",
              "      <th>MaxTemp</th>\n",
              "      <th>Rainfall</th>\n",
              "      <th>Evaporation</th>\n",
              "      <th>Sunshine</th>\n",
              "      <th>WindGustDir</th>\n",
              "      <th>WindGustSpeed</th>\n",
              "      <th>WindDir9am</th>\n",
              "      <th>...</th>\n",
              "      <th>Humidity9am</th>\n",
              "      <th>Humidity3pm</th>\n",
              "      <th>Pressure9am</th>\n",
              "      <th>Pressure3pm</th>\n",
              "      <th>Cloud9am</th>\n",
              "      <th>Cloud3pm</th>\n",
              "      <th>Temp9am</th>\n",
              "      <th>Temp3pm</th>\n",
              "      <th>RainToday</th>\n",
              "      <th>RainTomorrow</th>\n",
              "    </tr>\n",
              "  </thead>\n",
              "  <tbody>\n",
              "    <tr>\n",
              "      <th>0</th>\n",
              "      <td>2008-12-01</td>\n",
              "      <td>Albury</td>\n",
              "      <td>13.4</td>\n",
              "      <td>22.9</td>\n",
              "      <td>0.6</td>\n",
              "      <td>NaN</td>\n",
              "      <td>NaN</td>\n",
              "      <td>W</td>\n",
              "      <td>44.0</td>\n",
              "      <td>W</td>\n",
              "      <td>...</td>\n",
              "      <td>71.0</td>\n",
              "      <td>22.0</td>\n",
              "      <td>1007.7</td>\n",
              "      <td>1007.1</td>\n",
              "      <td>8.0</td>\n",
              "      <td>NaN</td>\n",
              "      <td>16.9</td>\n",
              "      <td>21.8</td>\n",
              "      <td>No</td>\n",
              "      <td>No</td>\n",
              "    </tr>\n",
              "    <tr>\n",
              "      <th>1</th>\n",
              "      <td>2008-12-02</td>\n",
              "      <td>Albury</td>\n",
              "      <td>7.4</td>\n",
              "      <td>25.1</td>\n",
              "      <td>0.0</td>\n",
              "      <td>NaN</td>\n",
              "      <td>NaN</td>\n",
              "      <td>WNW</td>\n",
              "      <td>44.0</td>\n",
              "      <td>NNW</td>\n",
              "      <td>...</td>\n",
              "      <td>44.0</td>\n",
              "      <td>25.0</td>\n",
              "      <td>1010.6</td>\n",
              "      <td>1007.8</td>\n",
              "      <td>NaN</td>\n",
              "      <td>NaN</td>\n",
              "      <td>17.2</td>\n",
              "      <td>24.3</td>\n",
              "      <td>No</td>\n",
              "      <td>No</td>\n",
              "    </tr>\n",
              "    <tr>\n",
              "      <th>2</th>\n",
              "      <td>2008-12-03</td>\n",
              "      <td>Albury</td>\n",
              "      <td>12.9</td>\n",
              "      <td>25.7</td>\n",
              "      <td>0.0</td>\n",
              "      <td>NaN</td>\n",
              "      <td>NaN</td>\n",
              "      <td>WSW</td>\n",
              "      <td>46.0</td>\n",
              "      <td>W</td>\n",
              "      <td>...</td>\n",
              "      <td>38.0</td>\n",
              "      <td>30.0</td>\n",
              "      <td>1007.6</td>\n",
              "      <td>1008.7</td>\n",
              "      <td>NaN</td>\n",
              "      <td>2.0</td>\n",
              "      <td>21.0</td>\n",
              "      <td>23.2</td>\n",
              "      <td>No</td>\n",
              "      <td>No</td>\n",
              "    </tr>\n",
              "  </tbody>\n",
              "</table>\n",
              "<p>3 rows × 23 columns</p>\n",
              "</div>\n",
              "    <div class=\"colab-df-buttons\">\n",
              "\n",
              "  <div class=\"colab-df-container\">\n",
              "    <button class=\"colab-df-convert\" onclick=\"convertToInteractive('df-5209c34e-c5a7-4e17-a25c-ecc2913949c6')\"\n",
              "            title=\"Convert this dataframe to an interactive table.\"\n",
              "            style=\"display:none;\">\n",
              "\n",
              "  <svg xmlns=\"http://www.w3.org/2000/svg\" height=\"24px\" viewBox=\"0 -960 960 960\">\n",
              "    <path d=\"M120-120v-720h720v720H120Zm60-500h600v-160H180v160Zm220 220h160v-160H400v160Zm0 220h160v-160H400v160ZM180-400h160v-160H180v160Zm440 0h160v-160H620v160ZM180-180h160v-160H180v160Zm440 0h160v-160H620v160Z\"/>\n",
              "  </svg>\n",
              "    </button>\n",
              "\n",
              "  <style>\n",
              "    .colab-df-container {\n",
              "      display:flex;\n",
              "      gap: 12px;\n",
              "    }\n",
              "\n",
              "    .colab-df-convert {\n",
              "      background-color: #E8F0FE;\n",
              "      border: none;\n",
              "      border-radius: 50%;\n",
              "      cursor: pointer;\n",
              "      display: none;\n",
              "      fill: #1967D2;\n",
              "      height: 32px;\n",
              "      padding: 0 0 0 0;\n",
              "      width: 32px;\n",
              "    }\n",
              "\n",
              "    .colab-df-convert:hover {\n",
              "      background-color: #E2EBFA;\n",
              "      box-shadow: 0px 1px 2px rgba(60, 64, 67, 0.3), 0px 1px 3px 1px rgba(60, 64, 67, 0.15);\n",
              "      fill: #174EA6;\n",
              "    }\n",
              "\n",
              "    .colab-df-buttons div {\n",
              "      margin-bottom: 4px;\n",
              "    }\n",
              "\n",
              "    [theme=dark] .colab-df-convert {\n",
              "      background-color: #3B4455;\n",
              "      fill: #D2E3FC;\n",
              "    }\n",
              "\n",
              "    [theme=dark] .colab-df-convert:hover {\n",
              "      background-color: #434B5C;\n",
              "      box-shadow: 0px 1px 3px 1px rgba(0, 0, 0, 0.15);\n",
              "      filter: drop-shadow(0px 1px 2px rgba(0, 0, 0, 0.3));\n",
              "      fill: #FFFFFF;\n",
              "    }\n",
              "  </style>\n",
              "\n",
              "    <script>\n",
              "      const buttonEl =\n",
              "        document.querySelector('#df-5209c34e-c5a7-4e17-a25c-ecc2913949c6 button.colab-df-convert');\n",
              "      buttonEl.style.display =\n",
              "        google.colab.kernel.accessAllowed ? 'block' : 'none';\n",
              "\n",
              "      async function convertToInteractive(key) {\n",
              "        const element = document.querySelector('#df-5209c34e-c5a7-4e17-a25c-ecc2913949c6');\n",
              "        const dataTable =\n",
              "          await google.colab.kernel.invokeFunction('convertToInteractive',\n",
              "                                                    [key], {});\n",
              "        if (!dataTable) return;\n",
              "\n",
              "        const docLinkHtml = 'Like what you see? Visit the ' +\n",
              "          '<a target=\"_blank\" href=https://colab.research.google.com/notebooks/data_table.ipynb>data table notebook</a>'\n",
              "          + ' to learn more about interactive tables.';\n",
              "        element.innerHTML = '';\n",
              "        dataTable['output_type'] = 'display_data';\n",
              "        await google.colab.output.renderOutput(dataTable, element);\n",
              "        const docLink = document.createElement('div');\n",
              "        docLink.innerHTML = docLinkHtml;\n",
              "        element.appendChild(docLink);\n",
              "      }\n",
              "    </script>\n",
              "  </div>\n",
              "\n",
              "\n",
              "    <div id=\"df-9056b9dc-99ac-407f-96b4-2dd45d6362cb\">\n",
              "      <button class=\"colab-df-quickchart\" onclick=\"quickchart('df-9056b9dc-99ac-407f-96b4-2dd45d6362cb')\"\n",
              "                title=\"Suggest charts\"\n",
              "                style=\"display:none;\">\n",
              "\n",
              "<svg xmlns=\"http://www.w3.org/2000/svg\" height=\"24px\"viewBox=\"0 0 24 24\"\n",
              "     width=\"24px\">\n",
              "    <g>\n",
              "        <path d=\"M19 3H5c-1.1 0-2 .9-2 2v14c0 1.1.9 2 2 2h14c1.1 0 2-.9 2-2V5c0-1.1-.9-2-2-2zM9 17H7v-7h2v7zm4 0h-2V7h2v10zm4 0h-2v-4h2v4z\"/>\n",
              "    </g>\n",
              "</svg>\n",
              "      </button>\n",
              "\n",
              "<style>\n",
              "  .colab-df-quickchart {\n",
              "      --bg-color: #E8F0FE;\n",
              "      --fill-color: #1967D2;\n",
              "      --hover-bg-color: #E2EBFA;\n",
              "      --hover-fill-color: #174EA6;\n",
              "      --disabled-fill-color: #AAA;\n",
              "      --disabled-bg-color: #DDD;\n",
              "  }\n",
              "\n",
              "  [theme=dark] .colab-df-quickchart {\n",
              "      --bg-color: #3B4455;\n",
              "      --fill-color: #D2E3FC;\n",
              "      --hover-bg-color: #434B5C;\n",
              "      --hover-fill-color: #FFFFFF;\n",
              "      --disabled-bg-color: #3B4455;\n",
              "      --disabled-fill-color: #666;\n",
              "  }\n",
              "\n",
              "  .colab-df-quickchart {\n",
              "    background-color: var(--bg-color);\n",
              "    border: none;\n",
              "    border-radius: 50%;\n",
              "    cursor: pointer;\n",
              "    display: none;\n",
              "    fill: var(--fill-color);\n",
              "    height: 32px;\n",
              "    padding: 0;\n",
              "    width: 32px;\n",
              "  }\n",
              "\n",
              "  .colab-df-quickchart:hover {\n",
              "    background-color: var(--hover-bg-color);\n",
              "    box-shadow: 0 1px 2px rgba(60, 64, 67, 0.3), 0 1px 3px 1px rgba(60, 64, 67, 0.15);\n",
              "    fill: var(--button-hover-fill-color);\n",
              "  }\n",
              "\n",
              "  .colab-df-quickchart-complete:disabled,\n",
              "  .colab-df-quickchart-complete:disabled:hover {\n",
              "    background-color: var(--disabled-bg-color);\n",
              "    fill: var(--disabled-fill-color);\n",
              "    box-shadow: none;\n",
              "  }\n",
              "\n",
              "  .colab-df-spinner {\n",
              "    border: 2px solid var(--fill-color);\n",
              "    border-color: transparent;\n",
              "    border-bottom-color: var(--fill-color);\n",
              "    animation:\n",
              "      spin 1s steps(1) infinite;\n",
              "  }\n",
              "\n",
              "  @keyframes spin {\n",
              "    0% {\n",
              "      border-color: transparent;\n",
              "      border-bottom-color: var(--fill-color);\n",
              "      border-left-color: var(--fill-color);\n",
              "    }\n",
              "    20% {\n",
              "      border-color: transparent;\n",
              "      border-left-color: var(--fill-color);\n",
              "      border-top-color: var(--fill-color);\n",
              "    }\n",
              "    30% {\n",
              "      border-color: transparent;\n",
              "      border-left-color: var(--fill-color);\n",
              "      border-top-color: var(--fill-color);\n",
              "      border-right-color: var(--fill-color);\n",
              "    }\n",
              "    40% {\n",
              "      border-color: transparent;\n",
              "      border-right-color: var(--fill-color);\n",
              "      border-top-color: var(--fill-color);\n",
              "    }\n",
              "    60% {\n",
              "      border-color: transparent;\n",
              "      border-right-color: var(--fill-color);\n",
              "    }\n",
              "    80% {\n",
              "      border-color: transparent;\n",
              "      border-right-color: var(--fill-color);\n",
              "      border-bottom-color: var(--fill-color);\n",
              "    }\n",
              "    90% {\n",
              "      border-color: transparent;\n",
              "      border-bottom-color: var(--fill-color);\n",
              "    }\n",
              "  }\n",
              "</style>\n",
              "\n",
              "      <script>\n",
              "        async function quickchart(key) {\n",
              "          const quickchartButtonEl =\n",
              "            document.querySelector('#' + key + ' button');\n",
              "          quickchartButtonEl.disabled = true;  // To prevent multiple clicks.\n",
              "          quickchartButtonEl.classList.add('colab-df-spinner');\n",
              "          try {\n",
              "            const charts = await google.colab.kernel.invokeFunction(\n",
              "                'suggestCharts', [key], {});\n",
              "          } catch (error) {\n",
              "            console.error('Error during call to suggestCharts:', error);\n",
              "          }\n",
              "          quickchartButtonEl.classList.remove('colab-df-spinner');\n",
              "          quickchartButtonEl.classList.add('colab-df-quickchart-complete');\n",
              "        }\n",
              "        (() => {\n",
              "          let quickchartButtonEl =\n",
              "            document.querySelector('#df-9056b9dc-99ac-407f-96b4-2dd45d6362cb button');\n",
              "          quickchartButtonEl.style.display =\n",
              "            google.colab.kernel.accessAllowed ? 'block' : 'none';\n",
              "        })();\n",
              "      </script>\n",
              "    </div>\n",
              "\n",
              "    </div>\n",
              "  </div>\n"
            ],
            "application/vnd.google.colaboratory.intrinsic+json": {
              "type": "dataframe",
              "variable_name": "df"
            }
          },
          "metadata": {},
          "execution_count": 2
        }
      ],
      "source": [
        "# Criar Dataframe Pandas\n",
        "\n",
        "import pandas as pd\n",
        "\n",
        "df = pd.read_csv(csv_path, sep=',', engine='python', on_bad_lines='skip')\n",
        "df.head(3)"
      ]
    },
    {
      "cell_type": "code",
      "execution_count": null,
      "metadata": {
        "colab": {
          "base_uri": "https://localhost:8080/",
          "height": 320
        },
        "id": "chXUIEWjTn4P",
        "outputId": "b3f77b53-3b01-4fe8-9f4e-ce4c0eba0c19"
      },
      "outputs": [
        {
          "output_type": "execute_result",
          "data": {
            "text/plain": [
              "             MinTemp        MaxTemp       Rainfall   Evaporation  \\\n",
              "count  143975.000000  144199.000000  142199.000000  82670.000000   \n",
              "mean       12.194034      23.221348       2.360918      5.468232   \n",
              "std         6.398495       7.119049       8.478060      4.193704   \n",
              "min        -8.500000      -4.800000       0.000000      0.000000   \n",
              "25%         7.600000      17.900000       0.000000      2.600000   \n",
              "50%        12.000000      22.600000       0.000000      4.800000   \n",
              "75%        16.900000      28.200000       0.800000      7.400000   \n",
              "max        33.900000      48.100000     371.000000    145.000000   \n",
              "\n",
              "           Sunshine  WindGustSpeed   WindSpeed9am   WindSpeed3pm  \\\n",
              "count  75625.000000  135197.000000  143693.000000  142398.000000   \n",
              "mean       7.611178      40.035230      14.043426      18.662657   \n",
              "std        3.785483      13.607062       8.915375       8.809800   \n",
              "min        0.000000       6.000000       0.000000       0.000000   \n",
              "25%        4.800000      31.000000       7.000000      13.000000   \n",
              "50%        8.400000      39.000000      13.000000      19.000000   \n",
              "75%       10.600000      48.000000      19.000000      24.000000   \n",
              "max       14.500000     135.000000     130.000000      87.000000   \n",
              "\n",
              "         Humidity9am    Humidity3pm   Pressure9am    Pressure3pm  \\\n",
              "count  142806.000000  140953.000000  130395.00000  130432.000000   \n",
              "mean       68.880831      51.539116    1017.64994    1015.255889   \n",
              "std        19.029164      20.795902       7.10653       7.037414   \n",
              "min         0.000000       0.000000     980.50000     977.100000   \n",
              "25%        57.000000      37.000000    1012.90000    1010.400000   \n",
              "50%        70.000000      52.000000    1017.60000    1015.200000   \n",
              "75%        83.000000      66.000000    1022.40000    1020.000000   \n",
              "max       100.000000     100.000000    1041.00000    1039.600000   \n",
              "\n",
              "           Cloud9am      Cloud3pm        Temp9am       Temp3pm  \n",
              "count  89572.000000  86102.000000  143693.000000  141851.00000  \n",
              "mean       4.447461      4.509930      16.990631      21.68339  \n",
              "std        2.887159      2.720357       6.488753       6.93665  \n",
              "min        0.000000      0.000000      -7.200000      -5.40000  \n",
              "25%        1.000000      2.000000      12.300000      16.60000  \n",
              "50%        5.000000      5.000000      16.700000      21.10000  \n",
              "75%        7.000000      7.000000      21.600000      26.40000  \n",
              "max        9.000000      9.000000      40.200000      46.70000  "
            ],
            "text/html": [
              "\n",
              "  <div id=\"df-18cf81d6-1ad2-431d-b35e-5530acc18ed3\" class=\"colab-df-container\">\n",
              "    <div>\n",
              "<style scoped>\n",
              "    .dataframe tbody tr th:only-of-type {\n",
              "        vertical-align: middle;\n",
              "    }\n",
              "\n",
              "    .dataframe tbody tr th {\n",
              "        vertical-align: top;\n",
              "    }\n",
              "\n",
              "    .dataframe thead th {\n",
              "        text-align: right;\n",
              "    }\n",
              "</style>\n",
              "<table border=\"1\" class=\"dataframe\">\n",
              "  <thead>\n",
              "    <tr style=\"text-align: right;\">\n",
              "      <th></th>\n",
              "      <th>MinTemp</th>\n",
              "      <th>MaxTemp</th>\n",
              "      <th>Rainfall</th>\n",
              "      <th>Evaporation</th>\n",
              "      <th>Sunshine</th>\n",
              "      <th>WindGustSpeed</th>\n",
              "      <th>WindSpeed9am</th>\n",
              "      <th>WindSpeed3pm</th>\n",
              "      <th>Humidity9am</th>\n",
              "      <th>Humidity3pm</th>\n",
              "      <th>Pressure9am</th>\n",
              "      <th>Pressure3pm</th>\n",
              "      <th>Cloud9am</th>\n",
              "      <th>Cloud3pm</th>\n",
              "      <th>Temp9am</th>\n",
              "      <th>Temp3pm</th>\n",
              "    </tr>\n",
              "  </thead>\n",
              "  <tbody>\n",
              "    <tr>\n",
              "      <th>count</th>\n",
              "      <td>143975.000000</td>\n",
              "      <td>144199.000000</td>\n",
              "      <td>142199.000000</td>\n",
              "      <td>82670.000000</td>\n",
              "      <td>75625.000000</td>\n",
              "      <td>135197.000000</td>\n",
              "      <td>143693.000000</td>\n",
              "      <td>142398.000000</td>\n",
              "      <td>142806.000000</td>\n",
              "      <td>140953.000000</td>\n",
              "      <td>130395.00000</td>\n",
              "      <td>130432.000000</td>\n",
              "      <td>89572.000000</td>\n",
              "      <td>86102.000000</td>\n",
              "      <td>143693.000000</td>\n",
              "      <td>141851.00000</td>\n",
              "    </tr>\n",
              "    <tr>\n",
              "      <th>mean</th>\n",
              "      <td>12.194034</td>\n",
              "      <td>23.221348</td>\n",
              "      <td>2.360918</td>\n",
              "      <td>5.468232</td>\n",
              "      <td>7.611178</td>\n",
              "      <td>40.035230</td>\n",
              "      <td>14.043426</td>\n",
              "      <td>18.662657</td>\n",
              "      <td>68.880831</td>\n",
              "      <td>51.539116</td>\n",
              "      <td>1017.64994</td>\n",
              "      <td>1015.255889</td>\n",
              "      <td>4.447461</td>\n",
              "      <td>4.509930</td>\n",
              "      <td>16.990631</td>\n",
              "      <td>21.68339</td>\n",
              "    </tr>\n",
              "    <tr>\n",
              "      <th>std</th>\n",
              "      <td>6.398495</td>\n",
              "      <td>7.119049</td>\n",
              "      <td>8.478060</td>\n",
              "      <td>4.193704</td>\n",
              "      <td>3.785483</td>\n",
              "      <td>13.607062</td>\n",
              "      <td>8.915375</td>\n",
              "      <td>8.809800</td>\n",
              "      <td>19.029164</td>\n",
              "      <td>20.795902</td>\n",
              "      <td>7.10653</td>\n",
              "      <td>7.037414</td>\n",
              "      <td>2.887159</td>\n",
              "      <td>2.720357</td>\n",
              "      <td>6.488753</td>\n",
              "      <td>6.93665</td>\n",
              "    </tr>\n",
              "    <tr>\n",
              "      <th>min</th>\n",
              "      <td>-8.500000</td>\n",
              "      <td>-4.800000</td>\n",
              "      <td>0.000000</td>\n",
              "      <td>0.000000</td>\n",
              "      <td>0.000000</td>\n",
              "      <td>6.000000</td>\n",
              "      <td>0.000000</td>\n",
              "      <td>0.000000</td>\n",
              "      <td>0.000000</td>\n",
              "      <td>0.000000</td>\n",
              "      <td>980.50000</td>\n",
              "      <td>977.100000</td>\n",
              "      <td>0.000000</td>\n",
              "      <td>0.000000</td>\n",
              "      <td>-7.200000</td>\n",
              "      <td>-5.40000</td>\n",
              "    </tr>\n",
              "    <tr>\n",
              "      <th>25%</th>\n",
              "      <td>7.600000</td>\n",
              "      <td>17.900000</td>\n",
              "      <td>0.000000</td>\n",
              "      <td>2.600000</td>\n",
              "      <td>4.800000</td>\n",
              "      <td>31.000000</td>\n",
              "      <td>7.000000</td>\n",
              "      <td>13.000000</td>\n",
              "      <td>57.000000</td>\n",
              "      <td>37.000000</td>\n",
              "      <td>1012.90000</td>\n",
              "      <td>1010.400000</td>\n",
              "      <td>1.000000</td>\n",
              "      <td>2.000000</td>\n",
              "      <td>12.300000</td>\n",
              "      <td>16.60000</td>\n",
              "    </tr>\n",
              "    <tr>\n",
              "      <th>50%</th>\n",
              "      <td>12.000000</td>\n",
              "      <td>22.600000</td>\n",
              "      <td>0.000000</td>\n",
              "      <td>4.800000</td>\n",
              "      <td>8.400000</td>\n",
              "      <td>39.000000</td>\n",
              "      <td>13.000000</td>\n",
              "      <td>19.000000</td>\n",
              "      <td>70.000000</td>\n",
              "      <td>52.000000</td>\n",
              "      <td>1017.60000</td>\n",
              "      <td>1015.200000</td>\n",
              "      <td>5.000000</td>\n",
              "      <td>5.000000</td>\n",
              "      <td>16.700000</td>\n",
              "      <td>21.10000</td>\n",
              "    </tr>\n",
              "    <tr>\n",
              "      <th>75%</th>\n",
              "      <td>16.900000</td>\n",
              "      <td>28.200000</td>\n",
              "      <td>0.800000</td>\n",
              "      <td>7.400000</td>\n",
              "      <td>10.600000</td>\n",
              "      <td>48.000000</td>\n",
              "      <td>19.000000</td>\n",
              "      <td>24.000000</td>\n",
              "      <td>83.000000</td>\n",
              "      <td>66.000000</td>\n",
              "      <td>1022.40000</td>\n",
              "      <td>1020.000000</td>\n",
              "      <td>7.000000</td>\n",
              "      <td>7.000000</td>\n",
              "      <td>21.600000</td>\n",
              "      <td>26.40000</td>\n",
              "    </tr>\n",
              "    <tr>\n",
              "      <th>max</th>\n",
              "      <td>33.900000</td>\n",
              "      <td>48.100000</td>\n",
              "      <td>371.000000</td>\n",
              "      <td>145.000000</td>\n",
              "      <td>14.500000</td>\n",
              "      <td>135.000000</td>\n",
              "      <td>130.000000</td>\n",
              "      <td>87.000000</td>\n",
              "      <td>100.000000</td>\n",
              "      <td>100.000000</td>\n",
              "      <td>1041.00000</td>\n",
              "      <td>1039.600000</td>\n",
              "      <td>9.000000</td>\n",
              "      <td>9.000000</td>\n",
              "      <td>40.200000</td>\n",
              "      <td>46.70000</td>\n",
              "    </tr>\n",
              "  </tbody>\n",
              "</table>\n",
              "</div>\n",
              "    <div class=\"colab-df-buttons\">\n",
              "\n",
              "  <div class=\"colab-df-container\">\n",
              "    <button class=\"colab-df-convert\" onclick=\"convertToInteractive('df-18cf81d6-1ad2-431d-b35e-5530acc18ed3')\"\n",
              "            title=\"Convert this dataframe to an interactive table.\"\n",
              "            style=\"display:none;\">\n",
              "\n",
              "  <svg xmlns=\"http://www.w3.org/2000/svg\" height=\"24px\" viewBox=\"0 -960 960 960\">\n",
              "    <path d=\"M120-120v-720h720v720H120Zm60-500h600v-160H180v160Zm220 220h160v-160H400v160Zm0 220h160v-160H400v160ZM180-400h160v-160H180v160Zm440 0h160v-160H620v160ZM180-180h160v-160H180v160Zm440 0h160v-160H620v160Z\"/>\n",
              "  </svg>\n",
              "    </button>\n",
              "\n",
              "  <style>\n",
              "    .colab-df-container {\n",
              "      display:flex;\n",
              "      gap: 12px;\n",
              "    }\n",
              "\n",
              "    .colab-df-convert {\n",
              "      background-color: #E8F0FE;\n",
              "      border: none;\n",
              "      border-radius: 50%;\n",
              "      cursor: pointer;\n",
              "      display: none;\n",
              "      fill: #1967D2;\n",
              "      height: 32px;\n",
              "      padding: 0 0 0 0;\n",
              "      width: 32px;\n",
              "    }\n",
              "\n",
              "    .colab-df-convert:hover {\n",
              "      background-color: #E2EBFA;\n",
              "      box-shadow: 0px 1px 2px rgba(60, 64, 67, 0.3), 0px 1px 3px 1px rgba(60, 64, 67, 0.15);\n",
              "      fill: #174EA6;\n",
              "    }\n",
              "\n",
              "    .colab-df-buttons div {\n",
              "      margin-bottom: 4px;\n",
              "    }\n",
              "\n",
              "    [theme=dark] .colab-df-convert {\n",
              "      background-color: #3B4455;\n",
              "      fill: #D2E3FC;\n",
              "    }\n",
              "\n",
              "    [theme=dark] .colab-df-convert:hover {\n",
              "      background-color: #434B5C;\n",
              "      box-shadow: 0px 1px 3px 1px rgba(0, 0, 0, 0.15);\n",
              "      filter: drop-shadow(0px 1px 2px rgba(0, 0, 0, 0.3));\n",
              "      fill: #FFFFFF;\n",
              "    }\n",
              "  </style>\n",
              "\n",
              "    <script>\n",
              "      const buttonEl =\n",
              "        document.querySelector('#df-18cf81d6-1ad2-431d-b35e-5530acc18ed3 button.colab-df-convert');\n",
              "      buttonEl.style.display =\n",
              "        google.colab.kernel.accessAllowed ? 'block' : 'none';\n",
              "\n",
              "      async function convertToInteractive(key) {\n",
              "        const element = document.querySelector('#df-18cf81d6-1ad2-431d-b35e-5530acc18ed3');\n",
              "        const dataTable =\n",
              "          await google.colab.kernel.invokeFunction('convertToInteractive',\n",
              "                                                    [key], {});\n",
              "        if (!dataTable) return;\n",
              "\n",
              "        const docLinkHtml = 'Like what you see? Visit the ' +\n",
              "          '<a target=\"_blank\" href=https://colab.research.google.com/notebooks/data_table.ipynb>data table notebook</a>'\n",
              "          + ' to learn more about interactive tables.';\n",
              "        element.innerHTML = '';\n",
              "        dataTable['output_type'] = 'display_data';\n",
              "        await google.colab.output.renderOutput(dataTable, element);\n",
              "        const docLink = document.createElement('div');\n",
              "        docLink.innerHTML = docLinkHtml;\n",
              "        element.appendChild(docLink);\n",
              "      }\n",
              "    </script>\n",
              "  </div>\n",
              "\n",
              "\n",
              "    <div id=\"df-86fc45ef-398a-4bca-bf23-90e8755d8c2e\">\n",
              "      <button class=\"colab-df-quickchart\" onclick=\"quickchart('df-86fc45ef-398a-4bca-bf23-90e8755d8c2e')\"\n",
              "                title=\"Suggest charts\"\n",
              "                style=\"display:none;\">\n",
              "\n",
              "<svg xmlns=\"http://www.w3.org/2000/svg\" height=\"24px\"viewBox=\"0 0 24 24\"\n",
              "     width=\"24px\">\n",
              "    <g>\n",
              "        <path d=\"M19 3H5c-1.1 0-2 .9-2 2v14c0 1.1.9 2 2 2h14c1.1 0 2-.9 2-2V5c0-1.1-.9-2-2-2zM9 17H7v-7h2v7zm4 0h-2V7h2v10zm4 0h-2v-4h2v4z\"/>\n",
              "    </g>\n",
              "</svg>\n",
              "      </button>\n",
              "\n",
              "<style>\n",
              "  .colab-df-quickchart {\n",
              "      --bg-color: #E8F0FE;\n",
              "      --fill-color: #1967D2;\n",
              "      --hover-bg-color: #E2EBFA;\n",
              "      --hover-fill-color: #174EA6;\n",
              "      --disabled-fill-color: #AAA;\n",
              "      --disabled-bg-color: #DDD;\n",
              "  }\n",
              "\n",
              "  [theme=dark] .colab-df-quickchart {\n",
              "      --bg-color: #3B4455;\n",
              "      --fill-color: #D2E3FC;\n",
              "      --hover-bg-color: #434B5C;\n",
              "      --hover-fill-color: #FFFFFF;\n",
              "      --disabled-bg-color: #3B4455;\n",
              "      --disabled-fill-color: #666;\n",
              "  }\n",
              "\n",
              "  .colab-df-quickchart {\n",
              "    background-color: var(--bg-color);\n",
              "    border: none;\n",
              "    border-radius: 50%;\n",
              "    cursor: pointer;\n",
              "    display: none;\n",
              "    fill: var(--fill-color);\n",
              "    height: 32px;\n",
              "    padding: 0;\n",
              "    width: 32px;\n",
              "  }\n",
              "\n",
              "  .colab-df-quickchart:hover {\n",
              "    background-color: var(--hover-bg-color);\n",
              "    box-shadow: 0 1px 2px rgba(60, 64, 67, 0.3), 0 1px 3px 1px rgba(60, 64, 67, 0.15);\n",
              "    fill: var(--button-hover-fill-color);\n",
              "  }\n",
              "\n",
              "  .colab-df-quickchart-complete:disabled,\n",
              "  .colab-df-quickchart-complete:disabled:hover {\n",
              "    background-color: var(--disabled-bg-color);\n",
              "    fill: var(--disabled-fill-color);\n",
              "    box-shadow: none;\n",
              "  }\n",
              "\n",
              "  .colab-df-spinner {\n",
              "    border: 2px solid var(--fill-color);\n",
              "    border-color: transparent;\n",
              "    border-bottom-color: var(--fill-color);\n",
              "    animation:\n",
              "      spin 1s steps(1) infinite;\n",
              "  }\n",
              "\n",
              "  @keyframes spin {\n",
              "    0% {\n",
              "      border-color: transparent;\n",
              "      border-bottom-color: var(--fill-color);\n",
              "      border-left-color: var(--fill-color);\n",
              "    }\n",
              "    20% {\n",
              "      border-color: transparent;\n",
              "      border-left-color: var(--fill-color);\n",
              "      border-top-color: var(--fill-color);\n",
              "    }\n",
              "    30% {\n",
              "      border-color: transparent;\n",
              "      border-left-color: var(--fill-color);\n",
              "      border-top-color: var(--fill-color);\n",
              "      border-right-color: var(--fill-color);\n",
              "    }\n",
              "    40% {\n",
              "      border-color: transparent;\n",
              "      border-right-color: var(--fill-color);\n",
              "      border-top-color: var(--fill-color);\n",
              "    }\n",
              "    60% {\n",
              "      border-color: transparent;\n",
              "      border-right-color: var(--fill-color);\n",
              "    }\n",
              "    80% {\n",
              "      border-color: transparent;\n",
              "      border-right-color: var(--fill-color);\n",
              "      border-bottom-color: var(--fill-color);\n",
              "    }\n",
              "    90% {\n",
              "      border-color: transparent;\n",
              "      border-bottom-color: var(--fill-color);\n",
              "    }\n",
              "  }\n",
              "</style>\n",
              "\n",
              "      <script>\n",
              "        async function quickchart(key) {\n",
              "          const quickchartButtonEl =\n",
              "            document.querySelector('#' + key + ' button');\n",
              "          quickchartButtonEl.disabled = true;  // To prevent multiple clicks.\n",
              "          quickchartButtonEl.classList.add('colab-df-spinner');\n",
              "          try {\n",
              "            const charts = await google.colab.kernel.invokeFunction(\n",
              "                'suggestCharts', [key], {});\n",
              "          } catch (error) {\n",
              "            console.error('Error during call to suggestCharts:', error);\n",
              "          }\n",
              "          quickchartButtonEl.classList.remove('colab-df-spinner');\n",
              "          quickchartButtonEl.classList.add('colab-df-quickchart-complete');\n",
              "        }\n",
              "        (() => {\n",
              "          let quickchartButtonEl =\n",
              "            document.querySelector('#df-86fc45ef-398a-4bca-bf23-90e8755d8c2e button');\n",
              "          quickchartButtonEl.style.display =\n",
              "            google.colab.kernel.accessAllowed ? 'block' : 'none';\n",
              "        })();\n",
              "      </script>\n",
              "    </div>\n",
              "\n",
              "    </div>\n",
              "  </div>\n"
            ],
            "application/vnd.google.colaboratory.intrinsic+json": {
              "type": "dataframe",
              "summary": "{\n  \"name\": \"df\",\n  \"rows\": 8,\n  \"fields\": [\n    {\n      \"column\": \"MinTemp\",\n      \"properties\": {\n        \"dtype\": \"number\",\n        \"std\": 50898.7852892957,\n        \"min\": -8.5,\n        \"max\": 143975.0,\n        \"num_unique_values\": 8,\n        \"samples\": [\n          12.19403438096892,\n          12.0,\n          143975.0\n        ],\n        \"semantic_type\": \"\",\n        \"description\": \"\"\n      }\n    },\n    {\n      \"column\": \"MaxTemp\",\n      \"properties\": {\n        \"dtype\": \"number\",\n        \"std\": 50974.85841852006,\n        \"min\": -4.8,\n        \"max\": 144199.0,\n        \"num_unique_values\": 8,\n        \"samples\": [\n          23.22134827564685,\n          22.6,\n          144199.0\n        ],\n        \"semantic_type\": \"\",\n        \"description\": \"\"\n      }\n    },\n    {\n      \"column\": \"Rainfall\",\n      \"properties\": {\n        \"dtype\": \"number\",\n        \"std\": 50255.778414581844,\n        \"min\": 0.0,\n        \"max\": 142199.0,\n        \"num_unique_values\": 6,\n        \"samples\": [\n          142199.0,\n          2.3609181499166656,\n          371.0\n        ],\n        \"semantic_type\": \"\",\n        \"description\": \"\"\n      }\n    },\n    {\n      \"column\": \"Evaporation\",\n      \"properties\": {\n        \"dtype\": \"number\",\n        \"std\": 29219.741370533065,\n        \"min\": 0.0,\n        \"max\": 82670.0,\n        \"num_unique_values\": 8,\n        \"samples\": [\n          5.468231522922462,\n          4.8,\n          82670.0\n        ],\n        \"semantic_type\": \"\",\n        \"description\": \"\"\n      }\n    },\n    {\n      \"column\": \"Sunshine\",\n      \"properties\": {\n        \"dtype\": \"number\",\n        \"std\": 26734.965465626912,\n        \"min\": 0.0,\n        \"max\": 75625.0,\n        \"num_unique_values\": 8,\n        \"samples\": [\n          7.6111775206611565,\n          8.4,\n          75625.0\n        ],\n        \"semantic_type\": \"\",\n        \"description\": \"\"\n      }\n    },\n    {\n      \"column\": \"WindGustSpeed\",\n      \"properties\": {\n        \"dtype\": \"number\",\n        \"std\": 47783.58317859071,\n        \"min\": 6.0,\n        \"max\": 135197.0,\n        \"num_unique_values\": 8,\n        \"samples\": [\n          40.03523007167319,\n          39.0,\n          135197.0\n        ],\n        \"semantic_type\": \"\",\n        \"description\": \"\"\n      }\n    },\n    {\n      \"column\": \"WindSpeed9am\",\n      \"properties\": {\n        \"dtype\": \"number\",\n        \"std\": 50793.46953742816,\n        \"min\": 0.0,\n        \"max\": 143693.0,\n        \"num_unique_values\": 8,\n        \"samples\": [\n          14.043425914971502,\n          13.0,\n          143693.0\n        ],\n        \"semantic_type\": \"\",\n        \"description\": \"\"\n      }\n    },\n    {\n      \"column\": \"WindSpeed3pm\",\n      \"properties\": {\n        \"dtype\": \"number\",\n        \"std\": 50336.6925776163,\n        \"min\": 0.0,\n        \"max\": 142398.0,\n        \"num_unique_values\": 8,\n        \"samples\": [\n          18.662656778887342,\n          19.0,\n          142398.0\n        ],\n        \"semantic_type\": \"\",\n        \"description\": \"\"\n      }\n    },\n    {\n      \"column\": \"Humidity9am\",\n      \"properties\": {\n        \"dtype\": \"number\",\n        \"std\": 50469.45865841999,\n        \"min\": 0.0,\n        \"max\": 142806.0,\n        \"num_unique_values\": 8,\n        \"samples\": [\n          68.88083133761887,\n          70.0,\n          142806.0\n        ],\n        \"semantic_type\": \"\",\n        \"description\": \"\"\n      }\n    },\n    {\n      \"column\": \"Humidity3pm\",\n      \"properties\": {\n        \"dtype\": \"number\",\n        \"std\": 49817.88705434561,\n        \"min\": 0.0,\n        \"max\": 140953.0,\n        \"num_unique_values\": 8,\n        \"samples\": [\n          51.5391158755046,\n          52.0,\n          140953.0\n        ],\n        \"semantic_type\": \"\",\n        \"description\": \"\"\n      }\n    },\n    {\n      \"column\": \"Pressure9am\",\n      \"properties\": {\n        \"dtype\": \"number\",\n        \"std\": 45794.902527110266,\n        \"min\": 7.106530287523588,\n        \"max\": 130395.0,\n        \"num_unique_values\": 8,\n        \"samples\": [\n          1017.6499397983052,\n          1017.6,\n          130395.0\n        ],\n        \"semantic_type\": \"\",\n        \"description\": \"\"\n      }\n    },\n    {\n      \"column\": \"Pressure3pm\",\n      \"properties\": {\n        \"dtype\": \"number\",\n        \"std\": 45808.7130186032,\n        \"min\": 7.0374138081677975,\n        \"max\": 130432.0,\n        \"num_unique_values\": 8,\n        \"samples\": [\n          1015.2558888309618,\n          1015.2,\n          130432.0\n        ],\n        \"semantic_type\": \"\",\n        \"description\": \"\"\n      }\n    },\n    {\n      \"column\": \"Cloud9am\",\n      \"properties\": {\n        \"dtype\": \"number\",\n        \"std\": 31667.00281817111,\n        \"min\": 0.0,\n        \"max\": 89572.0,\n        \"num_unique_values\": 8,\n        \"samples\": [\n          4.4474612602152455,\n          5.0,\n          89572.0\n        ],\n        \"semantic_type\": \"\",\n        \"description\": \"\"\n      }\n    },\n    {\n      \"column\": \"Cloud3pm\",\n      \"properties\": {\n        \"dtype\": \"number\",\n        \"std\": 30440.12730861951,\n        \"min\": 0.0,\n        \"max\": 86102.0,\n        \"num_unique_values\": 8,\n        \"samples\": [\n          4.509930082924903,\n          5.0,\n          86102.0\n        ],\n        \"semantic_type\": \"\",\n        \"description\": \"\"\n      }\n    },\n    {\n      \"column\": \"Temp9am\",\n      \"properties\": {\n        \"dtype\": \"number\",\n        \"std\": 50797.74079696554,\n        \"min\": -7.2,\n        \"max\": 143693.0,\n        \"num_unique_values\": 8,\n        \"samples\": [\n          16.990631415587398,\n          16.7,\n          143693.0\n        ],\n        \"semantic_type\": \"\",\n        \"description\": \"\"\n      }\n    },\n    {\n      \"column\": \"Temp3pm\",\n      \"properties\": {\n        \"dtype\": \"number\",\n        \"std\": 50145.135225618586,\n        \"min\": -5.4,\n        \"max\": 141851.0,\n        \"num_unique_values\": 8,\n        \"samples\": [\n          21.68339031800974,\n          21.1,\n          141851.0\n        ],\n        \"semantic_type\": \"\",\n        \"description\": \"\"\n      }\n    }\n  ]\n}"
            }
          },
          "metadata": {},
          "execution_count": 3
        }
      ],
      "source": [
        "# Describe Dataframe Data\n",
        "\n",
        "df.describe()"
      ]
    },
    {
      "cell_type": "code",
      "execution_count": null,
      "metadata": {
        "colab": {
          "base_uri": "https://localhost:8080/",
          "height": 805
        },
        "id": "432c3088",
        "outputId": "25c8202c-1186-4dd1-ff3c-f094b51eafac"
      },
      "outputs": [
        {
          "output_type": "display_data",
          "data": {
            "text/plain": [
              "Date                 0\n",
              "Location             0\n",
              "MinTemp           1485\n",
              "MaxTemp           1261\n",
              "Rainfall          3261\n",
              "Evaporation      62790\n",
              "Sunshine         69835\n",
              "WindGustDir      10326\n",
              "WindGustSpeed    10263\n",
              "WindDir9am       10566\n",
              "WindDir3pm        4228\n",
              "WindSpeed9am      1767\n",
              "WindSpeed3pm      3062\n",
              "Humidity9am       2654\n",
              "Humidity3pm       4507\n",
              "Pressure9am      15065\n",
              "Pressure3pm      15028\n",
              "Cloud9am         55888\n",
              "Cloud3pm         59358\n",
              "Temp9am           1767\n",
              "Temp3pm           3609\n",
              "RainToday         3261\n",
              "RainTomorrow      3267\n",
              "dtype: int64"
            ],
            "text/html": [
              "<div>\n",
              "<style scoped>\n",
              "    .dataframe tbody tr th:only-of-type {\n",
              "        vertical-align: middle;\n",
              "    }\n",
              "\n",
              "    .dataframe tbody tr th {\n",
              "        vertical-align: top;\n",
              "    }\n",
              "\n",
              "    .dataframe thead th {\n",
              "        text-align: right;\n",
              "    }\n",
              "</style>\n",
              "<table border=\"1\" class=\"dataframe\">\n",
              "  <thead>\n",
              "    <tr style=\"text-align: right;\">\n",
              "      <th></th>\n",
              "      <th>0</th>\n",
              "    </tr>\n",
              "  </thead>\n",
              "  <tbody>\n",
              "    <tr>\n",
              "      <th>Date</th>\n",
              "      <td>0</td>\n",
              "    </tr>\n",
              "    <tr>\n",
              "      <th>Location</th>\n",
              "      <td>0</td>\n",
              "    </tr>\n",
              "    <tr>\n",
              "      <th>MinTemp</th>\n",
              "      <td>1485</td>\n",
              "    </tr>\n",
              "    <tr>\n",
              "      <th>MaxTemp</th>\n",
              "      <td>1261</td>\n",
              "    </tr>\n",
              "    <tr>\n",
              "      <th>Rainfall</th>\n",
              "      <td>3261</td>\n",
              "    </tr>\n",
              "    <tr>\n",
              "      <th>Evaporation</th>\n",
              "      <td>62790</td>\n",
              "    </tr>\n",
              "    <tr>\n",
              "      <th>Sunshine</th>\n",
              "      <td>69835</td>\n",
              "    </tr>\n",
              "    <tr>\n",
              "      <th>WindGustDir</th>\n",
              "      <td>10326</td>\n",
              "    </tr>\n",
              "    <tr>\n",
              "      <th>WindGustSpeed</th>\n",
              "      <td>10263</td>\n",
              "    </tr>\n",
              "    <tr>\n",
              "      <th>WindDir9am</th>\n",
              "      <td>10566</td>\n",
              "    </tr>\n",
              "    <tr>\n",
              "      <th>WindDir3pm</th>\n",
              "      <td>4228</td>\n",
              "    </tr>\n",
              "    <tr>\n",
              "      <th>WindSpeed9am</th>\n",
              "      <td>1767</td>\n",
              "    </tr>\n",
              "    <tr>\n",
              "      <th>WindSpeed3pm</th>\n",
              "      <td>3062</td>\n",
              "    </tr>\n",
              "    <tr>\n",
              "      <th>Humidity9am</th>\n",
              "      <td>2654</td>\n",
              "    </tr>\n",
              "    <tr>\n",
              "      <th>Humidity3pm</th>\n",
              "      <td>4507</td>\n",
              "    </tr>\n",
              "    <tr>\n",
              "      <th>Pressure9am</th>\n",
              "      <td>15065</td>\n",
              "    </tr>\n",
              "    <tr>\n",
              "      <th>Pressure3pm</th>\n",
              "      <td>15028</td>\n",
              "    </tr>\n",
              "    <tr>\n",
              "      <th>Cloud9am</th>\n",
              "      <td>55888</td>\n",
              "    </tr>\n",
              "    <tr>\n",
              "      <th>Cloud3pm</th>\n",
              "      <td>59358</td>\n",
              "    </tr>\n",
              "    <tr>\n",
              "      <th>Temp9am</th>\n",
              "      <td>1767</td>\n",
              "    </tr>\n",
              "    <tr>\n",
              "      <th>Temp3pm</th>\n",
              "      <td>3609</td>\n",
              "    </tr>\n",
              "    <tr>\n",
              "      <th>RainToday</th>\n",
              "      <td>3261</td>\n",
              "    </tr>\n",
              "    <tr>\n",
              "      <th>RainTomorrow</th>\n",
              "      <td>3267</td>\n",
              "    </tr>\n",
              "  </tbody>\n",
              "</table>\n",
              "</div><br><label><b>dtype:</b> int64</label>"
            ]
          },
          "metadata": {}
        }
      ],
      "source": [
        "# Verificar falta de dados\n",
        "\n",
        "missing_data = df.isnull().sum()\n",
        "display(missing_data)"
      ]
    },
    {
      "cell_type": "code",
      "execution_count": null,
      "metadata": {
        "colab": {
          "base_uri": "https://localhost:8080/",
          "height": 377
        },
        "id": "2c539a59",
        "outputId": "2bd02331-ea19-4f45-8df7-a1627bebe354"
      },
      "outputs": [
        {
          "output_type": "display_data",
          "data": {
            "text/plain": [
              "            Date Location  MinTemp  MaxTemp  Rainfall  Evaporation  Sunshine  \\\n",
              "6049  2009-01-01    Cobar     17.9     35.2       0.0         12.0      12.3   \n",
              "6050  2009-01-02    Cobar     18.4     28.9       0.0         14.8      13.0   \n",
              "6052  2009-01-04    Cobar     19.4     37.6       0.0         10.8      10.6   \n",
              "6053  2009-01-05    Cobar     21.9     38.4       0.0         11.4      12.2   \n",
              "6054  2009-01-06    Cobar     24.2     41.0       0.0         11.2       8.4   \n",
              "\n",
              "     WindGustDir  WindGustSpeed WindDir9am  ... Humidity9am  Humidity3pm  \\\n",
              "6049         SSW           48.0        ENE  ...        20.0         13.0   \n",
              "6050           S           37.0        SSE  ...        30.0          8.0   \n",
              "6052         NNE           46.0        NNE  ...        42.0         22.0   \n",
              "6053         WNW           31.0        WNW  ...        37.0         22.0   \n",
              "6054         WNW           35.0         NW  ...        19.0         15.0   \n",
              "\n",
              "      Pressure9am  Pressure3pm  Cloud9am  Cloud3pm  Temp9am  Temp3pm  \\\n",
              "6049       1006.3       1004.4       2.0       5.0     26.6     33.4   \n",
              "6050       1012.9       1012.1       1.0       1.0     20.3     27.0   \n",
              "6052       1012.3       1009.2       1.0       6.0     28.7     34.9   \n",
              "6053       1012.7       1009.1       1.0       5.0     29.1     35.6   \n",
              "6054       1010.7       1007.4       1.0       6.0     33.6     37.6   \n",
              "\n",
              "      RainToday  RainTomorrow  \n",
              "6049         No            No  \n",
              "6050         No            No  \n",
              "6052         No            No  \n",
              "6053         No            No  \n",
              "6054         No            No  \n",
              "\n",
              "[5 rows x 23 columns]"
            ],
            "text/html": [
              "\n",
              "  <div id=\"df-7cc8d155-6917-4e23-bb48-15fbb96a0548\" class=\"colab-df-container\">\n",
              "    <div>\n",
              "<style scoped>\n",
              "    .dataframe tbody tr th:only-of-type {\n",
              "        vertical-align: middle;\n",
              "    }\n",
              "\n",
              "    .dataframe tbody tr th {\n",
              "        vertical-align: top;\n",
              "    }\n",
              "\n",
              "    .dataframe thead th {\n",
              "        text-align: right;\n",
              "    }\n",
              "</style>\n",
              "<table border=\"1\" class=\"dataframe\">\n",
              "  <thead>\n",
              "    <tr style=\"text-align: right;\">\n",
              "      <th></th>\n",
              "      <th>Date</th>\n",
              "      <th>Location</th>\n",
              "      <th>MinTemp</th>\n",
              "      <th>MaxTemp</th>\n",
              "      <th>Rainfall</th>\n",
              "      <th>Evaporation</th>\n",
              "      <th>Sunshine</th>\n",
              "      <th>WindGustDir</th>\n",
              "      <th>WindGustSpeed</th>\n",
              "      <th>WindDir9am</th>\n",
              "      <th>...</th>\n",
              "      <th>Humidity9am</th>\n",
              "      <th>Humidity3pm</th>\n",
              "      <th>Pressure9am</th>\n",
              "      <th>Pressure3pm</th>\n",
              "      <th>Cloud9am</th>\n",
              "      <th>Cloud3pm</th>\n",
              "      <th>Temp9am</th>\n",
              "      <th>Temp3pm</th>\n",
              "      <th>RainToday</th>\n",
              "      <th>RainTomorrow</th>\n",
              "    </tr>\n",
              "  </thead>\n",
              "  <tbody>\n",
              "    <tr>\n",
              "      <th>6049</th>\n",
              "      <td>2009-01-01</td>\n",
              "      <td>Cobar</td>\n",
              "      <td>17.9</td>\n",
              "      <td>35.2</td>\n",
              "      <td>0.0</td>\n",
              "      <td>12.0</td>\n",
              "      <td>12.3</td>\n",
              "      <td>SSW</td>\n",
              "      <td>48.0</td>\n",
              "      <td>ENE</td>\n",
              "      <td>...</td>\n",
              "      <td>20.0</td>\n",
              "      <td>13.0</td>\n",
              "      <td>1006.3</td>\n",
              "      <td>1004.4</td>\n",
              "      <td>2.0</td>\n",
              "      <td>5.0</td>\n",
              "      <td>26.6</td>\n",
              "      <td>33.4</td>\n",
              "      <td>No</td>\n",
              "      <td>No</td>\n",
              "    </tr>\n",
              "    <tr>\n",
              "      <th>6050</th>\n",
              "      <td>2009-01-02</td>\n",
              "      <td>Cobar</td>\n",
              "      <td>18.4</td>\n",
              "      <td>28.9</td>\n",
              "      <td>0.0</td>\n",
              "      <td>14.8</td>\n",
              "      <td>13.0</td>\n",
              "      <td>S</td>\n",
              "      <td>37.0</td>\n",
              "      <td>SSE</td>\n",
              "      <td>...</td>\n",
              "      <td>30.0</td>\n",
              "      <td>8.0</td>\n",
              "      <td>1012.9</td>\n",
              "      <td>1012.1</td>\n",
              "      <td>1.0</td>\n",
              "      <td>1.0</td>\n",
              "      <td>20.3</td>\n",
              "      <td>27.0</td>\n",
              "      <td>No</td>\n",
              "      <td>No</td>\n",
              "    </tr>\n",
              "    <tr>\n",
              "      <th>6052</th>\n",
              "      <td>2009-01-04</td>\n",
              "      <td>Cobar</td>\n",
              "      <td>19.4</td>\n",
              "      <td>37.6</td>\n",
              "      <td>0.0</td>\n",
              "      <td>10.8</td>\n",
              "      <td>10.6</td>\n",
              "      <td>NNE</td>\n",
              "      <td>46.0</td>\n",
              "      <td>NNE</td>\n",
              "      <td>...</td>\n",
              "      <td>42.0</td>\n",
              "      <td>22.0</td>\n",
              "      <td>1012.3</td>\n",
              "      <td>1009.2</td>\n",
              "      <td>1.0</td>\n",
              "      <td>6.0</td>\n",
              "      <td>28.7</td>\n",
              "      <td>34.9</td>\n",
              "      <td>No</td>\n",
              "      <td>No</td>\n",
              "    </tr>\n",
              "    <tr>\n",
              "      <th>6053</th>\n",
              "      <td>2009-01-05</td>\n",
              "      <td>Cobar</td>\n",
              "      <td>21.9</td>\n",
              "      <td>38.4</td>\n",
              "      <td>0.0</td>\n",
              "      <td>11.4</td>\n",
              "      <td>12.2</td>\n",
              "      <td>WNW</td>\n",
              "      <td>31.0</td>\n",
              "      <td>WNW</td>\n",
              "      <td>...</td>\n",
              "      <td>37.0</td>\n",
              "      <td>22.0</td>\n",
              "      <td>1012.7</td>\n",
              "      <td>1009.1</td>\n",
              "      <td>1.0</td>\n",
              "      <td>5.0</td>\n",
              "      <td>29.1</td>\n",
              "      <td>35.6</td>\n",
              "      <td>No</td>\n",
              "      <td>No</td>\n",
              "    </tr>\n",
              "    <tr>\n",
              "      <th>6054</th>\n",
              "      <td>2009-01-06</td>\n",
              "      <td>Cobar</td>\n",
              "      <td>24.2</td>\n",
              "      <td>41.0</td>\n",
              "      <td>0.0</td>\n",
              "      <td>11.2</td>\n",
              "      <td>8.4</td>\n",
              "      <td>WNW</td>\n",
              "      <td>35.0</td>\n",
              "      <td>NW</td>\n",
              "      <td>...</td>\n",
              "      <td>19.0</td>\n",
              "      <td>15.0</td>\n",
              "      <td>1010.7</td>\n",
              "      <td>1007.4</td>\n",
              "      <td>1.0</td>\n",
              "      <td>6.0</td>\n",
              "      <td>33.6</td>\n",
              "      <td>37.6</td>\n",
              "      <td>No</td>\n",
              "      <td>No</td>\n",
              "    </tr>\n",
              "  </tbody>\n",
              "</table>\n",
              "<p>5 rows × 23 columns</p>\n",
              "</div>\n",
              "    <div class=\"colab-df-buttons\">\n",
              "\n",
              "  <div class=\"colab-df-container\">\n",
              "    <button class=\"colab-df-convert\" onclick=\"convertToInteractive('df-7cc8d155-6917-4e23-bb48-15fbb96a0548')\"\n",
              "            title=\"Convert this dataframe to an interactive table.\"\n",
              "            style=\"display:none;\">\n",
              "\n",
              "  <svg xmlns=\"http://www.w3.org/2000/svg\" height=\"24px\" viewBox=\"0 -960 960 960\">\n",
              "    <path d=\"M120-120v-720h720v720H120Zm60-500h600v-160H180v160Zm220 220h160v-160H400v160Zm0 220h160v-160H400v160ZM180-400h160v-160H180v160Zm440 0h160v-160H620v160ZM180-180h160v-160H180v160Zm440 0h160v-160H620v160Z\"/>\n",
              "  </svg>\n",
              "    </button>\n",
              "\n",
              "  <style>\n",
              "    .colab-df-container {\n",
              "      display:flex;\n",
              "      gap: 12px;\n",
              "    }\n",
              "\n",
              "    .colab-df-convert {\n",
              "      background-color: #E8F0FE;\n",
              "      border: none;\n",
              "      border-radius: 50%;\n",
              "      cursor: pointer;\n",
              "      display: none;\n",
              "      fill: #1967D2;\n",
              "      height: 32px;\n",
              "      padding: 0 0 0 0;\n",
              "      width: 32px;\n",
              "    }\n",
              "\n",
              "    .colab-df-convert:hover {\n",
              "      background-color: #E2EBFA;\n",
              "      box-shadow: 0px 1px 2px rgba(60, 64, 67, 0.3), 0px 1px 3px 1px rgba(60, 64, 67, 0.15);\n",
              "      fill: #174EA6;\n",
              "    }\n",
              "\n",
              "    .colab-df-buttons div {\n",
              "      margin-bottom: 4px;\n",
              "    }\n",
              "\n",
              "    [theme=dark] .colab-df-convert {\n",
              "      background-color: #3B4455;\n",
              "      fill: #D2E3FC;\n",
              "    }\n",
              "\n",
              "    [theme=dark] .colab-df-convert:hover {\n",
              "      background-color: #434B5C;\n",
              "      box-shadow: 0px 1px 3px 1px rgba(0, 0, 0, 0.15);\n",
              "      filter: drop-shadow(0px 1px 2px rgba(0, 0, 0, 0.3));\n",
              "      fill: #FFFFFF;\n",
              "    }\n",
              "  </style>\n",
              "\n",
              "    <script>\n",
              "      const buttonEl =\n",
              "        document.querySelector('#df-7cc8d155-6917-4e23-bb48-15fbb96a0548 button.colab-df-convert');\n",
              "      buttonEl.style.display =\n",
              "        google.colab.kernel.accessAllowed ? 'block' : 'none';\n",
              "\n",
              "      async function convertToInteractive(key) {\n",
              "        const element = document.querySelector('#df-7cc8d155-6917-4e23-bb48-15fbb96a0548');\n",
              "        const dataTable =\n",
              "          await google.colab.kernel.invokeFunction('convertToInteractive',\n",
              "                                                    [key], {});\n",
              "        if (!dataTable) return;\n",
              "\n",
              "        const docLinkHtml = 'Like what you see? Visit the ' +\n",
              "          '<a target=\"_blank\" href=https://colab.research.google.com/notebooks/data_table.ipynb>data table notebook</a>'\n",
              "          + ' to learn more about interactive tables.';\n",
              "        element.innerHTML = '';\n",
              "        dataTable['output_type'] = 'display_data';\n",
              "        await google.colab.output.renderOutput(dataTable, element);\n",
              "        const docLink = document.createElement('div');\n",
              "        docLink.innerHTML = docLinkHtml;\n",
              "        element.appendChild(docLink);\n",
              "      }\n",
              "    </script>\n",
              "  </div>\n",
              "\n",
              "\n",
              "    <div id=\"df-31e16110-32fa-4659-8bdd-f571fa0ed82c\">\n",
              "      <button class=\"colab-df-quickchart\" onclick=\"quickchart('df-31e16110-32fa-4659-8bdd-f571fa0ed82c')\"\n",
              "                title=\"Suggest charts\"\n",
              "                style=\"display:none;\">\n",
              "\n",
              "<svg xmlns=\"http://www.w3.org/2000/svg\" height=\"24px\"viewBox=\"0 0 24 24\"\n",
              "     width=\"24px\">\n",
              "    <g>\n",
              "        <path d=\"M19 3H5c-1.1 0-2 .9-2 2v14c0 1.1.9 2 2 2h14c1.1 0 2-.9 2-2V5c0-1.1-.9-2-2-2zM9 17H7v-7h2v7zm4 0h-2V7h2v10zm4 0h-2v-4h2v4z\"/>\n",
              "    </g>\n",
              "</svg>\n",
              "      </button>\n",
              "\n",
              "<style>\n",
              "  .colab-df-quickchart {\n",
              "      --bg-color: #E8F0FE;\n",
              "      --fill-color: #1967D2;\n",
              "      --hover-bg-color: #E2EBFA;\n",
              "      --hover-fill-color: #174EA6;\n",
              "      --disabled-fill-color: #AAA;\n",
              "      --disabled-bg-color: #DDD;\n",
              "  }\n",
              "\n",
              "  [theme=dark] .colab-df-quickchart {\n",
              "      --bg-color: #3B4455;\n",
              "      --fill-color: #D2E3FC;\n",
              "      --hover-bg-color: #434B5C;\n",
              "      --hover-fill-color: #FFFFFF;\n",
              "      --disabled-bg-color: #3B4455;\n",
              "      --disabled-fill-color: #666;\n",
              "  }\n",
              "\n",
              "  .colab-df-quickchart {\n",
              "    background-color: var(--bg-color);\n",
              "    border: none;\n",
              "    border-radius: 50%;\n",
              "    cursor: pointer;\n",
              "    display: none;\n",
              "    fill: var(--fill-color);\n",
              "    height: 32px;\n",
              "    padding: 0;\n",
              "    width: 32px;\n",
              "  }\n",
              "\n",
              "  .colab-df-quickchart:hover {\n",
              "    background-color: var(--hover-bg-color);\n",
              "    box-shadow: 0 1px 2px rgba(60, 64, 67, 0.3), 0 1px 3px 1px rgba(60, 64, 67, 0.15);\n",
              "    fill: var(--button-hover-fill-color);\n",
              "  }\n",
              "\n",
              "  .colab-df-quickchart-complete:disabled,\n",
              "  .colab-df-quickchart-complete:disabled:hover {\n",
              "    background-color: var(--disabled-bg-color);\n",
              "    fill: var(--disabled-fill-color);\n",
              "    box-shadow: none;\n",
              "  }\n",
              "\n",
              "  .colab-df-spinner {\n",
              "    border: 2px solid var(--fill-color);\n",
              "    border-color: transparent;\n",
              "    border-bottom-color: var(--fill-color);\n",
              "    animation:\n",
              "      spin 1s steps(1) infinite;\n",
              "  }\n",
              "\n",
              "  @keyframes spin {\n",
              "    0% {\n",
              "      border-color: transparent;\n",
              "      border-bottom-color: var(--fill-color);\n",
              "      border-left-color: var(--fill-color);\n",
              "    }\n",
              "    20% {\n",
              "      border-color: transparent;\n",
              "      border-left-color: var(--fill-color);\n",
              "      border-top-color: var(--fill-color);\n",
              "    }\n",
              "    30% {\n",
              "      border-color: transparent;\n",
              "      border-left-color: var(--fill-color);\n",
              "      border-top-color: var(--fill-color);\n",
              "      border-right-color: var(--fill-color);\n",
              "    }\n",
              "    40% {\n",
              "      border-color: transparent;\n",
              "      border-right-color: var(--fill-color);\n",
              "      border-top-color: var(--fill-color);\n",
              "    }\n",
              "    60% {\n",
              "      border-color: transparent;\n",
              "      border-right-color: var(--fill-color);\n",
              "    }\n",
              "    80% {\n",
              "      border-color: transparent;\n",
              "      border-right-color: var(--fill-color);\n",
              "      border-bottom-color: var(--fill-color);\n",
              "    }\n",
              "    90% {\n",
              "      border-color: transparent;\n",
              "      border-bottom-color: var(--fill-color);\n",
              "    }\n",
              "  }\n",
              "</style>\n",
              "\n",
              "      <script>\n",
              "        async function quickchart(key) {\n",
              "          const quickchartButtonEl =\n",
              "            document.querySelector('#' + key + ' button');\n",
              "          quickchartButtonEl.disabled = true;  // To prevent multiple clicks.\n",
              "          quickchartButtonEl.classList.add('colab-df-spinner');\n",
              "          try {\n",
              "            const charts = await google.colab.kernel.invokeFunction(\n",
              "                'suggestCharts', [key], {});\n",
              "          } catch (error) {\n",
              "            console.error('Error during call to suggestCharts:', error);\n",
              "          }\n",
              "          quickchartButtonEl.classList.remove('colab-df-spinner');\n",
              "          quickchartButtonEl.classList.add('colab-df-quickchart-complete');\n",
              "        }\n",
              "        (() => {\n",
              "          let quickchartButtonEl =\n",
              "            document.querySelector('#df-31e16110-32fa-4659-8bdd-f571fa0ed82c button');\n",
              "          quickchartButtonEl.style.display =\n",
              "            google.colab.kernel.accessAllowed ? 'block' : 'none';\n",
              "        })();\n",
              "      </script>\n",
              "    </div>\n",
              "\n",
              "    </div>\n",
              "  </div>\n"
            ],
            "application/vnd.google.colaboratory.intrinsic+json": {
              "type": "dataframe"
            }
          },
          "metadata": {}
        },
        {
          "output_type": "stream",
          "name": "stdout",
          "text": [
            "Original: (145460, 23)\n",
            "Limpo: (56420, 23)\n"
          ]
        }
      ],
      "source": [
        "# Remover linhas com dados faltando\n",
        "\n",
        "df_cleaned = df.dropna()\n",
        "display(df_cleaned.head())\n",
        "print(f\"Original: {df.shape}\")\n",
        "print(f\"Limpo: {df_cleaned.shape}\")"
      ]
    },
    {
      "cell_type": "markdown",
      "metadata": {
        "id": "e6-mCx6hUxif"
      },
      "source": [
        "---\n",
        "# 12 Algoritmos:"
      ]
    },
    {
      "cell_type": "markdown",
      "metadata": {
        "id": "hELrr__oYiZx"
      },
      "source": [
        "---\n",
        "## 1) K-Nearest Neighbors (KNN) Falcão"
      ]
    },
    {
      "cell_type": "code",
      "execution_count": null,
      "metadata": {
        "id": "vA4p1py2Uu5g"
      },
      "outputs": [],
      "source": [
        "# Copia do dataframe\n",
        "df_knn = df_cleaned"
      ]
    },
    {
      "cell_type": "markdown",
      "metadata": {
        "id": "JQF7gcpRo6I8"
      },
      "source": [
        "###Importar as Bibliotecas"
      ]
    },
    {
      "cell_type": "code",
      "execution_count": null,
      "metadata": {
        "id": "Fga8g9m4pRvh"
      },
      "outputs": [],
      "source": [
        "import pandas as pd\n",
        "from sklearn.model_selection import train_test_split\n",
        "from sklearn.preprocessing import StandardScaler\n",
        "from sklearn.neighbors import KNeighborsClassifier\n",
        "from sklearn.metrics import classification_report, accuracy_score\n"
      ]
    },
    {
      "cell_type": "markdown",
      "metadata": {
        "id": "XbnbGj4lph6L"
      },
      "source": [
        "# Excluir a coluna 'Date' se não for relevante\n",
        "df_knn = df_knn.drop(columns=['Date'])\n",
        "\n",
        "# Converter variáveis categóricas em variáveis dummy (one-hot encoding)\n",
        "df_knn = pd.get_dummies(df_knn, drop_first=True)\n",
        "\n",
        "# Separar variáveis independentes (X) e dependentes (y)\n",
        "X = df_knn.drop(columns=['PlayTennis_Yes'])  # Substitua 'PlayTennis_Yes' pelo nome da coluna alvo\n",
        "y = df_knn['PlayTennis_Yes']\n"
      ]
    },
    {
      "cell_type": "code",
      "execution_count": null,
      "metadata": {
        "colab": {
          "base_uri": "https://localhost:8080/",
          "height": 211
        },
        "id": "n29dUFq-rAHv",
        "outputId": "d5a43b0c-173f-45cc-edb1-050d22a1374c"
      },
      "outputs": [
        {
          "output_type": "error",
          "ename": "NameError",
          "evalue": "name 'X' is not defined",
          "traceback": [
            "\u001b[0;31m---------------------------------------------------------------------------\u001b[0m",
            "\u001b[0;31mNameError\u001b[0m                                 Traceback (most recent call last)",
            "\u001b[0;32m/tmp/ipython-input-1008677181.py\u001b[0m in \u001b[0;36m<cell line: 0>\u001b[0;34m()\u001b[0m\n\u001b[1;32m      1\u001b[0m \u001b[0;31m# Dividir os dados em conjuntos de treino e teste\u001b[0m\u001b[0;34m\u001b[0m\u001b[0;34m\u001b[0m\u001b[0m\n\u001b[0;32m----> 2\u001b[0;31m \u001b[0mX_train\u001b[0m\u001b[0;34m,\u001b[0m \u001b[0mX_test\u001b[0m\u001b[0;34m,\u001b[0m \u001b[0my_train\u001b[0m\u001b[0;34m,\u001b[0m \u001b[0my_test\u001b[0m \u001b[0;34m=\u001b[0m \u001b[0mtrain_test_split\u001b[0m\u001b[0;34m(\u001b[0m\u001b[0mX\u001b[0m\u001b[0;34m,\u001b[0m \u001b[0my\u001b[0m\u001b[0;34m,\u001b[0m \u001b[0mtest_size\u001b[0m\u001b[0;34m=\u001b[0m\u001b[0;36m0.2\u001b[0m\u001b[0;34m,\u001b[0m \u001b[0mrandom_state\u001b[0m\u001b[0;34m=\u001b[0m\u001b[0;36m42\u001b[0m\u001b[0;34m)\u001b[0m\u001b[0;34m\u001b[0m\u001b[0;34m\u001b[0m\u001b[0m\n\u001b[0m\u001b[1;32m      3\u001b[0m \u001b[0;34m\u001b[0m\u001b[0m\n\u001b[1;32m      4\u001b[0m \u001b[0;31m# Escalar os dados\u001b[0m\u001b[0;34m\u001b[0m\u001b[0;34m\u001b[0m\u001b[0m\n\u001b[1;32m      5\u001b[0m \u001b[0mscaler\u001b[0m \u001b[0;34m=\u001b[0m \u001b[0mStandardScaler\u001b[0m\u001b[0;34m(\u001b[0m\u001b[0;34m)\u001b[0m\u001b[0;34m\u001b[0m\u001b[0;34m\u001b[0m\u001b[0m\n",
            "\u001b[0;31mNameError\u001b[0m: name 'X' is not defined"
          ]
        }
      ],
      "source": [
        "# Dividir os dados em conjuntos de treino e teste\n",
        "X_train, X_test, y_train, y_test = train_test_split(X, y, test_size=0.2, random_state=42)\n",
        "\n",
        "# Escalar os dados\n",
        "scaler = StandardScaler()\n",
        "X_train_scaled = scaler.fit_transform(X_train)\n",
        "X_test_scaled = scaler.transform(X_test)\n",
        "\n",
        "# Inicializar e treinar o modelo KNN\n",
        "knn = KNeighborsClassifier(n_neighbors=5) # Você pode ajustar o número de vizinhos\n",
        "knn.fit(X_train_scaled, y_train)\n",
        "\n",
        "# Fazer previsões\n",
        "y_pred = knn.predict(X_test_scaled)\n",
        "\n",
        "# Avaliar o modelo\n",
        "accuracy = accuracy_score(y_test, y_pred)\n",
        "report = classification_report(y_test, y_pred)\n",
        "\n",
        "print(f\"KNN Accuracy: {accuracy * 100:.2f}%\")\n",
        "print(\"Classification Report:\")\n",
        "print(report)"
      ]
    },
    {
      "cell_type": "markdown",
      "metadata": {
        "id": "DZbTsFq5YoHl"
      },
      "source": [
        "---\n",
        "## 2) Decision Tree Classifier (Tree-Based) | Gustavo"
      ]
    },
    {
      "cell_type": "code",
      "execution_count": null,
      "metadata": {
        "id": "qs6AQn4sUw8O"
      },
      "outputs": [],
      "source": [
        "# Copia do dataframe\n",
        "df_dtc = df_cleaned"
      ]
    },
    {
      "cell_type": "code",
      "execution_count": null,
      "metadata": {
        "id": "-e3QnUJusCzA"
      },
      "outputs": [],
      "source": [
        "# ========================\n",
        "# Decision Tree Classifier\n",
        "# ========================\n",
        "from sklearn.tree import DecisionTreeClassifier\n",
        "from sklearn.model_selection import train_test_split\n",
        "from sklearn.metrics import accuracy_score, confusion_matrix, classification_report, roc_curve, auc\n",
        "import matplotlib.pyplot as plt\n",
        "from sklearn.preprocessing import LabelEncoder\n",
        "\n",
        "# features (X) e target (y)\n",
        "X = df_dtc.drop([\"RainTomorrow\", 'Date', 'Location', 'WindGustDir', 'WindDir9am', 'WindDir3pm', 'RainToday'], axis=1)  # variável alvo = \"RainTomorrow\"\n",
        "y = df_dtc[\"RainTomorrow\"]\n",
        "\n",
        "# converter TARGET para numerico\n",
        "le = LabelEncoder()\n",
        "y = le.fit_transform(y)\n",
        "\n",
        "# treino/teste\n",
        "X_train, X_test, y_train, y_test = train_test_split(X, y, test_size=0.2, random_state=42)\n",
        "\n",
        "# modelo e prediçoes\n",
        "dtc = DecisionTreeClassifier(random_state=42)\n",
        "dtc.fit(X_train, y_train)\n",
        "y_pred_dtc = dtc.predict(X_test)\n",
        "\n",
        "# métricas\n",
        "print(\"Decision Tree\")\n",
        "print(\"Acurácia:\", accuracy_score(y_test, y_pred_dtc))\n",
        "print(confusion_matrix(y_test, y_pred_dtc))\n",
        "print(classification_report(y_test, y_pred_dtc))\n",
        "\n",
        "# ROC Curve\n",
        "y_prob_dtc = dtc.predict_proba(X_test)[:,1]\n",
        "fpr, tpr, _ = roc_curve(y_test, y_prob_dtc)\n",
        "roc_auc = auc(fpr, tpr)\n",
        "plt.plot(fpr, tpr, label=f'Decision Tree (AUC = {roc_auc:.2f})')\n",
        "\n",
        "# Keep the plot code from the Random Forest cell to display all ROC curves together\n",
        "# plt.plot([0,1], [0,1], \"k--\")\n",
        "# plt.xlabel(\"False Positive Rate\")\n",
        "# plt.ylabel(\"True Positive Rate\")\n",
        "# plt.title(\"ROC Curve - Tree Based Models\")\n",
        "# plt.legend()\n",
        "# plt.show()"
      ]
    },
    {
      "cell_type": "markdown",
      "metadata": {
        "id": "PtlaUt1NYuO0"
      },
      "source": [
        "---\n",
        "## 3) Random Forest Classifier (Tree-Based) | Gustavo"
      ]
    },
    {
      "cell_type": "code",
      "execution_count": null,
      "metadata": {
        "id": "Gb6Psgn0Uzca"
      },
      "outputs": [],
      "source": [
        "# Copia do dataframe\n",
        "df_rfc = df_cleaned"
      ]
    },
    {
      "cell_type": "code",
      "execution_count": null,
      "metadata": {
        "id": "xRqI8cQDsHTm"
      },
      "outputs": [],
      "source": [
        "# ========================\n",
        "# Random Forest Classifier\n",
        "# ========================\n",
        "from sklearn.ensemble import RandomForestClassifier\n",
        "from sklearn.model_selection import train_test_split\n",
        "from sklearn.metrics import accuracy_score, confusion_matrix, classification_report, roc_curve, auc\n",
        "import matplotlib.pyplot as plt\n",
        "from sklearn.preprocessing import LabelEncoder\n",
        "\n",
        "# features (X) e target (y)\n",
        "X = df_rfc.drop([\"RainTomorrow\", 'Date', 'Location', 'WindGustDir', 'WindDir9am', 'WindDir3pm', 'RainToday'], axis=1)\n",
        "y = df_rfc[\"RainTomorrow\"]\n",
        "\n",
        "# Convert TARGET to numeric\n",
        "le = LabelEncoder()\n",
        "y = le.fit_transform(y)\n",
        "\n",
        "# treino/teste\n",
        "X_train, X_test, y_train, y_test = train_test_split(X, y, test_size=0.2, random_state=42)\n",
        "\n",
        "# modelo e prediçoes\n",
        "rfc = RandomForestClassifier(n_estimators=100, random_state=42)\n",
        "rfc.fit(X_train, y_train)\n",
        "\n",
        "y_pred_rfc = rfc.predict(X_test)\n",
        "\n",
        "# métricas\n",
        "print(\"Random Forest\")\n",
        "print(\"Acurácia:\", accuracy_score(y_test, y_pred_rfc))\n",
        "print(confusion_matrix(y_test, y_pred_rfc))\n",
        "print(classification_report(y_test, y_pred_rfc))\n",
        "\n",
        "# ROC Curve\n",
        "y_prob_rfc = rfc.predict_proba(X_test)[:,1]\n",
        "fpr, tpr, _ = roc_curve(y_test, y_prob_rfc)\n",
        "roc_auc = auc(fpr, tpr)\n",
        "plt.plot(fpr, tpr, label=f'Random Forest (AUC = {roc_auc:.2f})')\n",
        "\n",
        "# gráfico ROC\n",
        "plt.plot([0,1], [0,1], \"k--\")\n",
        "plt.xlabel(\"False Positive Rate\")\n",
        "plt.ylabel(\"True Positive Rate\")\n",
        "plt.title(\"ROC Curve - Tree Based Models\")\n",
        "plt.legend()\n",
        "plt.show()"
      ]
    },
    {
      "cell_type": "markdown",
      "metadata": {
        "id": "dlOcrtOzcdv9"
      },
      "source": [
        "---\n",
        "## 4) XGBoost (Tree-Based) | Maruan"
      ]
    },
    {
      "cell_type": "code",
      "execution_count": null,
      "metadata": {
        "id": "Sd3G6cfYctdk"
      },
      "outputs": [],
      "source": [
        "# Copia do dataframe\n",
        "df_xgb = df_cleaned"
      ]
    },
    {
      "cell_type": "code",
      "execution_count": null,
      "metadata": {
        "id": "bdhpkMUJdtWy"
      },
      "outputs": [],
      "source": [
        "import xgboost as xgb\n",
        "from sklearn.model_selection import train_test_split\n",
        "from sklearn.preprocessing import LabelEncoder\n",
        "from sklearn.metrics import accuracy_score"
      ]
    },
    {
      "cell_type": "code",
      "execution_count": null,
      "metadata": {
        "id": "bAVD7f30c9xB"
      },
      "outputs": [],
      "source": [
        "# Remover tabelas nao numericas e o target\n",
        "X_xgb = df_xgb.drop(['Date', 'Location', 'RainToday', 'RainTomorrow', 'WindGustDir', 'WindDir9am', 'WindDir3pm'], axis=1)\n",
        "y_xgb = df_xgb['RainTomorrow']\n",
        "\n",
        "# Converter TARGET para numerico\n",
        "le = LabelEncoder()\n",
        "y_xgb = le.fit_transform(y_xgb)"
      ]
    },
    {
      "cell_type": "code",
      "execution_count": null,
      "metadata": {
        "id": "Htqfd4XGdvut"
      },
      "outputs": [],
      "source": [
        "X_train_xgb, X_test_xgb, y_train_xgb, y_test_xgb = train_test_split(X_xgb, y_xgb, test_size=0.2, random_state=42, stratify=y_xgb)"
      ]
    },
    {
      "cell_type": "code",
      "execution_count": null,
      "metadata": {
        "id": "lnN3QQV6dw1B"
      },
      "outputs": [],
      "source": [
        "# XGBoost model\n",
        "\n",
        "# resultado com parametros padrao: 85.69%\n",
        "xgboost = xgb.XGBClassifier(random_state=42, eval_metric='logloss')\n",
        "\n",
        "xgboost.fit(X_train_xgb, y_train_xgb)"
      ]
    },
    {
      "cell_type": "code",
      "execution_count": null,
      "metadata": {
        "id": "2Dz4aK4pdzq8"
      },
      "outputs": [],
      "source": [
        "# Avaliacao\n",
        "\n",
        "y_pred_xgb = xgboost.predict(X_test_xgb)\n",
        "accuracy_xgb = accuracy_score(y_test_xgb, y_pred_xgb)\n",
        "\n",
        "print(f\"XGBoost Accuracy: {accuracy_xgb * 100:.2f}%\")"
      ]
    },
    {
      "cell_type": "markdown",
      "metadata": {
        "id": "km0x2y5MYfmg"
      },
      "source": [
        "---\n",
        "## 5) LightGBM Classifier (Tree-Based) | Maruan"
      ]
    },
    {
      "cell_type": "code",
      "execution_count": null,
      "metadata": {
        "id": "1uWH4ps6ZWm8"
      },
      "outputs": [],
      "source": [
        "# Copia do dataframe\n",
        "df_lgbm = df_cleaned"
      ]
    },
    {
      "cell_type": "code",
      "execution_count": null,
      "metadata": {
        "id": "-35fzPwTZxL8"
      },
      "outputs": [],
      "source": [
        "import lightgbm as lgb\n",
        "from sklearn.model_selection import train_test_split\n",
        "from sklearn.preprocessing import LabelEncoder\n",
        "from sklearn.metrics import accuracy_score"
      ]
    },
    {
      "cell_type": "code",
      "execution_count": null,
      "metadata": {
        "id": "hbePQB3HZkmK"
      },
      "outputs": [],
      "source": [
        "# Remover tabelas nao numericas e o target\n",
        "X_lgbm = df_lgbm.drop(['Date', 'Location', 'RainToday', 'RainTomorrow', 'WindGustDir', 'WindDir9am', 'WindDir3pm'], axis=1)\n",
        "y_lgbm = df_lgbm['RainTomorrow']\n",
        "\n",
        "# Converter TARGET para numerico\n",
        "le = LabelEncoder()\n",
        "y_lgbm = le.fit_transform(y_lgbm)"
      ]
    },
    {
      "cell_type": "code",
      "execution_count": null,
      "metadata": {
        "id": "CsScsIUbZ-Oi"
      },
      "outputs": [],
      "source": [
        "X_train_lgbm, X_test_lgbm, y_train_lgbm, y_test_lgbm = train_test_split(X_lgbm, y_lgbm, test_size=0.2, random_state=42, stratify=y_lgbm)"
      ]
    },
    {
      "cell_type": "code",
      "execution_count": null,
      "metadata": {
        "id": "EhlUSgT9aBNm"
      },
      "outputs": [],
      "source": [
        "# LightGBM model\n",
        "\n",
        "# resultado com parametros padrao: 85.90%\n",
        "# melhor resultado com parametros personalizados: 86.46%\n",
        "lgbm = lgb.LGBMClassifier(\n",
        "    random_state=42,\n",
        "    n_estimators=52783,\n",
        "    learning_rate=0.055,\n",
        "    num_leaves=80,\n",
        "    max_depth=-1,\n",
        "    max_bin=716,\n",
        "    min_data_in_leaf=60,\n",
        "    min_sum_hessian_in_leaf=5.0,\n",
        "    min_gain_to_split=0.01,\n",
        "    feature_fraction=0.8,\n",
        "    bagging_fraction=0.8,\n",
        "    bagging_freq=1,\n",
        "    lambda_l1=0.1,\n",
        "    lambda_l2=2.0,\n",
        "    # extra_trees=True,\n",
        "    # class_weight=\"balanced\",\n",
        "    n_jobs=-1,\n",
        "    verbose=-1 # para nao encher de log no console senao o colab fica com 500mb\n",
        ")\n",
        "\n",
        "lgbm.fit(\n",
        "    X_train_lgbm, y_train_lgbm,\n",
        "    eval_set=[(X_test_lgbm, y_test_lgbm)],\n",
        "    eval_metric=[\"auc\", \"binary_logloss\"],\n",
        "    callbacks=[lgb.early_stopping(100)]\n",
        ")"
      ]
    },
    {
      "cell_type": "code",
      "execution_count": null,
      "metadata": {
        "id": "tLLTDSMraGRr"
      },
      "outputs": [],
      "source": [
        "# Avaliacao\n",
        "y_pred_lgbm = lgbm.predict(X_test_lgbm)\n",
        "accuracy_lgbm = accuracy_score(y_test_lgbm, y_pred_lgbm)\n",
        "\n",
        "print(f\"LightGBM Accuracy: {accuracy_lgbm * 100:.2f}%\")"
      ]
    },
    {
      "cell_type": "markdown",
      "metadata": {
        "id": "d-oDwJ0kY2EF"
      },
      "source": [
        "---\n",
        "## 6) CatBoost Classifier (Tree-Based) | Maruan"
      ]
    },
    {
      "cell_type": "code",
      "execution_count": null,
      "metadata": {
        "id": "8i8A3p6fU2Ok"
      },
      "outputs": [],
      "source": [
        "# Copia do dataframe\n",
        "df_cb = df_cleaned"
      ]
    },
    {
      "cell_type": "code",
      "execution_count": null,
      "metadata": {
        "id": "UjQ6oXS1iqpy"
      },
      "outputs": [],
      "source": [
        "!pip install catboost\n",
        "\n",
        "import catboost as cb\n",
        "from sklearn.model_selection import train_test_split\n",
        "from sklearn.preprocessing import LabelEncoder\n",
        "from sklearn.metrics import accuracy_score"
      ]
    },
    {
      "cell_type": "code",
      "execution_count": null,
      "metadata": {
        "id": "UBv-WZTHilmQ"
      },
      "outputs": [],
      "source": [
        "# Remover tabelas nao numericas e o target\n",
        "X_cb = df_cb.drop(['Date', 'Location', 'RainToday', 'RainTomorrow', 'WindGustDir', 'WindDir9am', 'WindDir3pm'], axis=1)\n",
        "y_cb = df_cb['RainTomorrow']\n",
        "\n",
        "# Converter TARGET para numerico\n",
        "le = LabelEncoder()\n",
        "y_cb = le.fit_transform(y_cb)"
      ]
    },
    {
      "cell_type": "code",
      "execution_count": null,
      "metadata": {
        "id": "anyvstvBi5jH"
      },
      "outputs": [],
      "source": [
        "X_train_cb, X_test_cb, y_train_cb, y_test_cb = train_test_split(X_cb, y_cb, test_size=0.2, random_state=42, stratify=y_cb)"
      ]
    },
    {
      "cell_type": "code",
      "execution_count": null,
      "metadata": {
        "id": "nvn34geYi5O7"
      },
      "outputs": [],
      "source": [
        "# CatBoost Model\n",
        "\n",
        "# resultado com parametros padrao: 86.46%\n",
        "# melhor resultado com parametros personalizados: 86.37%\n",
        "\n",
        "catboost = cb.CatBoostClassifier(\n",
        "    random_state=40,\n",
        "    # iterations=5000,\n",
        "    # learning_rate=0.1,\n",
        "    # depth=6,\n",
        "    # l2_leaf_reg=3,\n",
        "    # model_size_reg=None,\n",
        "    # colsample_bylevel=0.8,\n",
        "    # loss_function='Logloss',\n",
        "    # eval_metric='Accuracy',\n",
        "    # leaf_estimation_iterations=10,\n",
        "    # bootstrap_type='Bayesian',\n",
        "    # bagging_temperature=0.3,\n",
        "    # random_strength=0.2,\n",
        "    # auto_class_weights=\"Balanced\",\n",
        "    # od_type='Iter',\n",
        "    # od_wait=50,\n",
        "    verbose=0,\n",
        ")\n",
        "\n",
        "catboost.fit(X_train_cb, y_train_cb)"
      ]
    },
    {
      "cell_type": "code",
      "execution_count": null,
      "metadata": {
        "id": "WYS2cq6FjGuM"
      },
      "outputs": [],
      "source": [
        "# Avaliacao\n",
        "y_pred_cb = catboost.predict(X_test_cb)\n",
        "accuracy_cb = accuracy_score(y_test_cb, y_pred_cb)\n",
        "\n",
        "print(f\"CatBoost Accuracy: {accuracy_cb * 100:.2f}%\")"
      ]
    },
    {
      "cell_type": "markdown",
      "metadata": {
        "id": "n0FN07TGhZc7"
      },
      "source": [
        "---\n",
        "## 7) Perceptron | Maruan"
      ]
    },
    {
      "cell_type": "code",
      "execution_count": null,
      "metadata": {
        "id": "-tYSgE4qi3h1"
      },
      "outputs": [],
      "source": [
        "# Copia do dataframe\n",
        "df_perceptron = df_cleaned"
      ]
    },
    {
      "cell_type": "code",
      "execution_count": null,
      "metadata": {
        "id": "iZq1UqvrhbWc"
      },
      "outputs": [],
      "source": [
        "from sklearn.linear_model import Perceptron\n",
        "from sklearn.model_selection import train_test_split\n",
        "from sklearn.preprocessing import StandardScaler, LabelEncoder\n",
        "from sklearn.metrics import accuracy_score"
      ]
    },
    {
      "cell_type": "code",
      "execution_count": null,
      "metadata": {
        "id": "g0Olm00Fi54t"
      },
      "outputs": [],
      "source": [
        "# Remover tabelas nao numericas e o target\n",
        "X_perceptron = df_perceptron.drop(['Date', 'Location', 'RainToday', 'RainTomorrow', 'WindGustDir', 'WindDir9am', 'WindDir3pm'], axis=1)\n",
        "y_perceptron = df_perceptron['RainTomorrow']\n",
        "\n",
        "# Converter TARGET para numerico\n",
        "le = LabelEncoder()\n",
        "y_perceptron = le.fit_transform(y_perceptron)"
      ]
    },
    {
      "cell_type": "code",
      "execution_count": null,
      "metadata": {
        "id": "cNCQutBUi9Sw"
      },
      "outputs": [],
      "source": [
        "X_train_perceptron, X_test_perceptron, y_train_perceptron, y_test_perceptron = train_test_split(X_perceptron, y_perceptron, test_size=0.2, random_state=42, stratify=y_perceptron)"
      ]
    },
    {
      "cell_type": "code",
      "execution_count": null,
      "metadata": {
        "id": "0oEq1GMEi-Nx"
      },
      "outputs": [],
      "source": [
        "# escalar\n",
        "scaler = StandardScaler()\n",
        "X_train_scaled_perceptron = scaler.fit_transform(X_train_perceptron)\n",
        "X_test_scaled_perceptron = scaler.transform(X_test_perceptron)"
      ]
    },
    {
      "cell_type": "code",
      "execution_count": null,
      "metadata": {
        "id": "G8PhcNXXjAd5"
      },
      "outputs": [],
      "source": [
        "# Perceptron model\n",
        "\n",
        "perceptron = Perceptron(random_state=43)\n",
        "\n",
        "perceptron.fit(X_train_scaled_perceptron, y_train_perceptron)"
      ]
    },
    {
      "cell_type": "code",
      "execution_count": null,
      "metadata": {
        "id": "3ibibGGfjB32"
      },
      "outputs": [],
      "source": [
        "# Avaliacao\n",
        "\n",
        "y_pred_perceptron = perceptron.predict(X_test_scaled_perceptron)\n",
        "\n",
        "accuracy_perceptron = accuracy_score(y_test_perceptron, y_pred_perceptron)\n",
        "\n",
        "print(f\"Perceptron Accuracy: {accuracy_perceptron * 100:.2f}%\")"
      ]
    },
    {
      "cell_type": "markdown",
      "metadata": {
        "id": "GRfSI7DrY5EG"
      },
      "source": [
        "---\n",
        "## 8) Gaussian Naive Bayes (Naive Bayes)  Falcão"
      ]
    },
    {
      "cell_type": "code",
      "execution_count": null,
      "metadata": {
        "id": "MmawjMHRU4HL"
      },
      "outputs": [],
      "source": [
        "# Copia do dataframe\n",
        "df_gnb = df_cleaned"
      ]
    },
    {
      "cell_type": "markdown",
      "metadata": {
        "id": "UvyaUPw4tOYM"
      },
      "source": [
        "### Conferir Data"
      ]
    },
    {
      "cell_type": "code",
      "execution_count": null,
      "metadata": {
        "id": "3r35RRbetXhu"
      },
      "outputs": [],
      "source": [
        "if 'Date' in df_gnb.columns:\n",
        "    df_gnb = df_gnb.drop(columns=['Date'])"
      ]
    },
    {
      "cell_type": "markdown",
      "metadata": {
        "id": "5hViarq5tlgv"
      },
      "source": [
        "### Transformar colunas categóricas em números"
      ]
    },
    {
      "cell_type": "code",
      "execution_count": null,
      "metadata": {
        "id": "Q5Vi8bR-tuXu"
      },
      "outputs": [],
      "source": [
        "from sklearn.preprocessing import LabelEncoder\n",
        "\n",
        "for col in df.select_dtypes(include=['object']).columns:\n",
        "    le = LabelEncoder()\n",
        "    df[col] = le.fit_transform(df[col])"
      ]
    },
    {
      "cell_type": "markdown",
      "metadata": {
        "id": "bOqAEWzKt4vF"
      },
      "source": [
        "### # Separar X e y (ajuste o nome da coluna alvo)"
      ]
    },
    {
      "cell_type": "code",
      "execution_count": null,
      "metadata": {
        "id": "TvVSXqjkt8mD"
      },
      "outputs": [],
      "source": [
        "# Separar X e y (ajuste o nome da coluna alvo)\n",
        "X = df_gnb.drop(columns=['RainTomorrow'])\n",
        "y = df_gnb['RainTomorrow']\n",
        "\n",
        "# Converter variáveis categóricas em variáveis dummy (one-hot encoding)\n",
        "X = pd.get_dummies(X, drop_first=True)"
      ]
    },
    {
      "cell_type": "markdown",
      "metadata": {
        "id": "8ko-0OChuCOO"
      },
      "source": [
        "### Dividir e treinar"
      ]
    },
    {
      "cell_type": "code",
      "execution_count": null,
      "metadata": {
        "id": "mzoV3bF8uHJm"
      },
      "outputs": [],
      "source": [
        "# Separar X e y (ajuste o nome da coluna alvo)\n",
        "X = df_gnb.drop(columns=['RainTomorrow'])\n",
        "y = df_gnb['RainTomorrow']\n",
        "\n",
        "# Converter variáveis categóricas em variáveis dummy (one-hot encoding)\n",
        "X = pd.get_dummies(X, drop_first=True)\n",
        "\n",
        "from sklearn.model_selection import train_test_split\n",
        "X_train, X_test, y_train, y_test = train_test_split(X, y, test_size=0.3, random_state=42)"
      ]
    },
    {
      "cell_type": "markdown",
      "metadata": {
        "id": "A3pbjCAruKnG"
      },
      "source": [
        "### Escalonar variáveis"
      ]
    },
    {
      "cell_type": "code",
      "execution_count": null,
      "metadata": {
        "id": "NCpNCafZuN_1"
      },
      "outputs": [],
      "source": [
        "from sklearn.preprocessing import StandardScaler\n",
        "\n",
        "# Escalonar variáveis\n",
        "scaler = StandardScaler()\n",
        "X_train = scaler.fit_transform(X_train)\n",
        "X_test = scaler.transform(X_test)"
      ]
    },
    {
      "cell_type": "markdown",
      "metadata": {
        "id": "axxwKrDhuRAS"
      },
      "source": [
        "### Treinar Gaussian Naive Bayes"
      ]
    },
    {
      "cell_type": "code",
      "execution_count": null,
      "metadata": {
        "id": "05c2b09d"
      },
      "outputs": [],
      "source": [
        "# Converter variáveis categóricas em variáveis dummy (one-hot encoding)\n",
        "X = pd.get_dummies(X, drop_first=True)"
      ]
    },
    {
      "cell_type": "code",
      "execution_count": null,
      "metadata": {
        "id": "6me8pkEGuVNr"
      },
      "outputs": [],
      "source": [
        "from sklearn.naive_bayes import GaussianNB\n",
        "import numpy as np\n",
        "\n",
        "# Ensure the data is in a suitable format (e.g., NumPy array with float type)\n",
        "X_train = np.asarray(X_train, dtype=np.float64)\n",
        "X_test = np.asarray(X_test, dtype=np.float64)\n",
        "\n",
        "\n",
        "gnb = GaussianNB()\n",
        "gnb.fit(X_train, y_train)"
      ]
    },
    {
      "cell_type": "code",
      "execution_count": null,
      "metadata": {
        "id": "2a6c84fa"
      },
      "outputs": [],
      "source": [
        "print(\"Missing values in X_train after preprocessing:\")\n",
        "print(pd.DataFrame(X_train).isnull().sum().sum())\n",
        "\n",
        "print(\"Missing values in X_test after preprocessing:\")\n",
        "print(pd.DataFrame(X_test).isnull().sum().sum())"
      ]
    },
    {
      "cell_type": "markdown",
      "metadata": {
        "id": "kKGNNJqQvgQk"
      },
      "source": [
        "### Avaliar"
      ]
    },
    {
      "cell_type": "code",
      "execution_count": null,
      "metadata": {
        "id": "PpNEVPSqviLx"
      },
      "outputs": [],
      "source": [
        "from sklearn.metrics import accuracy_score, classification_report\n",
        "y_pred = gnb.predict(X_test)\n",
        "print(f'Acurácia: {accuracy_score(y_test, y_pred):.2f}')\n",
        "print('Relatório de Classificação:')\n",
        "print(classification_report(y_test, y_pred))"
      ]
    },
    {
      "cell_type": "markdown",
      "metadata": {
        "id": "f_HtfHP8v1Ij"
      },
      "source": [
        "### tentar melhorar a acurácia"
      ]
    },
    {
      "cell_type": "code",
      "execution_count": null,
      "metadata": {
        "id": "Lb2pdngFv87S"
      },
      "outputs": [],
      "source": [
        "from sklearn.feature_selection import SelectKBest, f_classif\n",
        "from sklearn.model_selection import cross_val_score\n",
        "from imblearn.over_sampling import SMOTE  # Se tiver classes desbalanceadas\n",
        "\n",
        "# 1. Balancear dados (se necessário)\n",
        "smote = SMOTE(random_state=42)\n",
        "X_resampled, y_resampled = smote.fit_resample(X, y)\n",
        "\n",
        "# 2. Selecionar melhores features (por exemplo as 10 melhores)\n",
        "selector = SelectKBest(f_classif, k=10)\n",
        "X_selected = selector.fit_transform(X_resampled, y_resampled)\n",
        "\n",
        "# 3. Dividir os dados novamente\n",
        "X_train, X_test, y_train, y_test = train_test_split(X_selected, y_resampled, test_size=0.3, random_state=42)\n",
        "\n",
        "# 4. Escalonar\n",
        "scaler = StandardScaler()\n",
        "X_train = scaler.fit_transform(X_train)\n",
        "X_test = scaler.transform(X_test)\n",
        "\n",
        "# 5. Treinar GaussianNB com ajuste var_smoothing\n",
        "gnb = GaussianNB(var_smoothing=1e-9)\n",
        "gnb.fit(X_train, y_train)\n",
        "\n",
        "# 6. Avaliar com cross-validation e teste final\n",
        "scores = cross_val_score(gnb, X_train, y_train, cv=5)\n",
        "print(f'Cross-validation accuracy média: {scores.mean():.2f}')\n",
        "\n",
        "y_pred = gnb.predict(X_test)\n",
        "print(f'Acurácia no teste: {accuracy_score(y_test, y_pred):.2f}')\n",
        "print(classification_report(y_test, y_pred))\n"
      ]
    },
    {
      "cell_type": "markdown",
      "metadata": {
        "id": "QPyKuQuPY-dY"
      },
      "source": [
        "---\n",
        "## 9) Support Vector Classification (SVC) | MC"
      ]
    },
    {
      "cell_type": "code",
      "execution_count": null,
      "metadata": {
        "id": "OHwEH7oEU7AS"
      },
      "outputs": [],
      "source": [
        "# Copia do dataframe\n",
        "df_svc = df_cleaned"
      ]
    },
    {
      "cell_type": "code",
      "execution_count": null,
      "metadata": {
        "id": "mI20AwVshPPX"
      },
      "outputs": [],
      "source": [
        "from sklearn.svm import SVC\n",
        "from sklearn.model_selection import train_test_split\n",
        "from sklearn.preprocessing import StandardScaler, LabelEncoder\n",
        "from sklearn.metrics import accuracy_score"
      ]
    },
    {
      "cell_type": "code",
      "execution_count": null,
      "metadata": {
        "id": "AcjfZSSW3pkb"
      },
      "outputs": [],
      "source": [
        "# Separando Features e target\n",
        "X = df_svc.drop(columns=[\n",
        "    'RainTomorrow', 'Date', 'Location',\n",
        "    'WindGustDir', 'WindDir9am', 'WindDir3pm', 'RainToday'\n",
        "])\n",
        "y = df_svc['RainTomorrow']"
      ]
    },
    {
      "cell_type": "code",
      "execution_count": null,
      "metadata": {
        "id": "RCte875K3-62"
      },
      "outputs": [],
      "source": [
        "# Codificando Target\n",
        "label_encoder = LabelEncoder()\n",
        "y_encoded = label_encoder.fit_transform(y)"
      ]
    },
    {
      "cell_type": "code",
      "execution_count": null,
      "metadata": {
        "id": "DMATIlXS4Esl"
      },
      "outputs": [],
      "source": [
        "# Dividir os dados\n",
        "X_train, X_test, y_train, y_test = train_test_split(X, y_encoded, test_size=0.2, random_state=42)"
      ]
    },
    {
      "cell_type": "code",
      "execution_count": null,
      "metadata": {
        "id": "eXRlGM6G4K6R"
      },
      "outputs": [],
      "source": [
        "# Escalando\n",
        "scaler = StandardScaler()\n",
        "X_train_scaled = scaler.fit_transform(X_train)\n",
        "X_test_scaled = scaler.transform(X_test)"
      ]
    },
    {
      "cell_type": "code",
      "execution_count": null,
      "metadata": {
        "id": "lt5pQhfb5gUL"
      },
      "outputs": [],
      "source": [
        "# Treinando svc\n",
        "svc = SVC(kernel='rbf', C=1.0, random_state=42)\n",
        "svc.fit(X_train_scaled, y_train)"
      ]
    },
    {
      "cell_type": "code",
      "execution_count": null,
      "metadata": {
        "id": "Qkmaj2AT5pBJ"
      },
      "outputs": [],
      "source": [
        "# Previsao\n",
        "y_pred = svc.predict(X_test_scaled)"
      ]
    },
    {
      "cell_type": "code",
      "execution_count": null,
      "metadata": {
        "id": "nD-he3os53az"
      },
      "outputs": [],
      "source": [
        "# Avaliacao\n",
        "accuracy = accuracy_score(y_test, y_pred)\n",
        "print(f\"\\nSVC accuracy score {accuracy:.2f}\\n\")\n",
        "\n",
        "\n",
        "\n",
        "\n"
      ]
    },
    {
      "cell_type": "markdown",
      "metadata": {
        "id": "Bd59Yc6zZA97"
      },
      "source": [
        "---\n",
        "## 10) Multi-Layer Perceptron (MLPClassifier) | Ícaro"
      ]
    },
    {
      "cell_type": "code",
      "execution_count": null,
      "metadata": {
        "id": "MprVRgNYU8XU"
      },
      "outputs": [],
      "source": [
        "# Copia do dataframe\n",
        "df_mlp = df_cleaned"
      ]
    },
    {
      "cell_type": "code",
      "execution_count": null,
      "metadata": {
        "id": "bC2a1NJVh95c"
      },
      "outputs": [],
      "source": [
        "from sklearn.model_selection import train_test_split\n",
        "from sklearn.preprocessing import StandardScaler\n",
        "from sklearn.neural_network import MLPClassifier\n",
        "from sklearn.metrics import classification_report, accuracy_score"
      ]
    },
    {
      "cell_type": "code",
      "execution_count": null,
      "metadata": {
        "id": "nk3Skj1IhOV0"
      },
      "outputs": [],
      "source": [
        "# Separar features e target\n",
        "X = df_mlp.drop(columns=[\n",
        "    'RainTomorrow', 'Date', 'Location',\n",
        "    'WindGustDir', 'WindDir9am', 'WindDir3pm', 'RainToday'\n",
        "])\n",
        "\n",
        "y = df_mlp['RainTomorrow']"
      ]
    },
    {
      "cell_type": "code",
      "execution_count": null,
      "metadata": {
        "id": "c_U5UtV1hoBN"
      },
      "outputs": [],
      "source": [
        "\n",
        "# Dividindo\n",
        "X_train, X_test, y_train, y_test = train_test_split(\n",
        "    X, y, test_size=0.2, random_state=42\n",
        ")\n"
      ]
    },
    {
      "cell_type": "code",
      "execution_count": null,
      "metadata": {
        "id": "VWwMCLogh1L7"
      },
      "outputs": [],
      "source": [
        "# Escalando\n",
        "scaler = StandardScaler()\n",
        "X_train_scaled = scaler.fit_transform(X_train)\n",
        "X_test_scaled = scaler.transform(X_test)"
      ]
    },
    {
      "cell_type": "code",
      "execution_count": null,
      "metadata": {
        "id": "e5o7vnbJiQC5"
      },
      "outputs": [],
      "source": [
        "# Treinando\n",
        "mlp = MLPClassifier(\n",
        "    hidden_layer_sizes=(100,),   # uma camada oculta com 100 neurônios\n",
        "    max_iter=300,                # número máximo de iterações\n",
        "    random_state=42,\n",
        "    early_stopping=True,         # para evitar overfitting\n",
        "    verbose=True                 # mostrar progresso durante o treinamento\n",
        ")\n",
        "\n",
        "# Convert to numpy array with float type to avoid the TypeError\n",
        "X_train_scaled = X_train_scaled.astype('float64')\n",
        "X_test_scaled = X_test_scaled.astype('float64')\n",
        "\n",
        "# Impute any remaining missing values (if any)\n",
        "from sklearn.impute import SimpleImputer\n",
        "imputer = SimpleImputer(strategy='mean')\n",
        "X_train_scaled = imputer.fit_transform(X_train_scaled)\n",
        "X_test_scaled = imputer.transform(X_test_scaled)\n",
        "\n",
        "# Convert target variable to numerical format\n",
        "from sklearn.preprocessing import LabelEncoder\n",
        "le = LabelEncoder()\n",
        "y_train_encoded = le.fit_transform(y_train)\n",
        "y_test_encoded = le.transform(y_test)\n",
        "\n",
        "\n",
        "mlp.fit(X_train_scaled, y_train_encoded)"
      ]
    },
    {
      "cell_type": "code",
      "execution_count": null,
      "metadata": {
        "id": "EgWn2V4oizH5"
      },
      "outputs": [],
      "source": [
        "# Predicao\n",
        "y_pred = mlp.predict(X_test_scaled)\n"
      ]
    },
    {
      "cell_type": "code",
      "execution_count": null,
      "metadata": {
        "id": "VfJjt4lxjqHH"
      },
      "outputs": [],
      "source": [
        "# Avaliacao\n",
        "from sklearn.metrics import classification_report\n",
        "report_mlp = classification_report(y_test_encoded, y_pred)\n",
        "print(\"Classification Report:\")\n",
        "print(report_mlp)"
      ]
    },
    {
      "cell_type": "markdown",
      "metadata": {
        "id": "EvSUMONvZEk_"
      },
      "source": [
        "---\n",
        "## 11) AdaBoost Classifier (Ensemble Methods) | MC"
      ]
    },
    {
      "cell_type": "code",
      "execution_count": null,
      "metadata": {
        "id": "0Yf5w6ohU9en"
      },
      "outputs": [],
      "source": [
        "\n",
        "# Copia do dataframe\n",
        "df_ada = df_cleaned"
      ]
    },
    {
      "cell_type": "code",
      "execution_count": null,
      "metadata": {
        "id": "A64Fb-Jc8Wbm"
      },
      "outputs": [],
      "source": [
        "from sklearn.ensemble import AdaBoostClassifier\n",
        "from sklearn.model_selection import train_test_split\n",
        "from sklearn.preprocessing import LabelEncoder, StandardScaler\n",
        "from sklearn.metrics import accuracy_score"
      ]
    },
    {
      "cell_type": "code",
      "execution_count": null,
      "metadata": {
        "id": "Ng8es4458KhE"
      },
      "outputs": [],
      "source": [
        "# Separar features e target\n",
        "X = df_ada.drop(columns=[\n",
        "    'RainTomorrow', 'Date', 'Location',\n",
        "    'WindGustDir', 'WindDir9am', 'WindDir3pm', 'RainToday'\n",
        "])\n",
        "y = df_ada['RainTomorrow']"
      ]
    },
    {
      "cell_type": "code",
      "execution_count": null,
      "metadata": {
        "id": "v-gJSewb8aKH"
      },
      "outputs": [],
      "source": [
        "# Codificando Target\n",
        "label_encoder = LabelEncoder()\n",
        "y_encoded = label_encoder.fit_transform(y)"
      ]
    },
    {
      "cell_type": "code",
      "execution_count": null,
      "metadata": {
        "id": "FygE7Q2o8hg6"
      },
      "outputs": [],
      "source": [
        "# Dividir os dados\n",
        "X_train, X_test, y_train, y_test = train_test_split(X, y_encoded, test_size=0.2, random_state=42)\n"
      ]
    },
    {
      "cell_type": "code",
      "execution_count": null,
      "metadata": {
        "id": "oQtM8bnG8ou5"
      },
      "outputs": [],
      "source": [
        "# Escalando\n",
        "scaler = StandardScaler()\n",
        "X_train_scaled = scaler.fit_transform(X_train)\n",
        "X_test_scaled = scaler.transform(X_test)"
      ]
    },
    {
      "cell_type": "code",
      "execution_count": null,
      "metadata": {
        "id": "j1FSlh-F8rYs"
      },
      "outputs": [],
      "source": [
        "# Treinando ada\n",
        "ada = AdaBoostClassifier(n_estimators=100, random_state=42)\n",
        "ada.fit(X_train_scaled, y_train)"
      ]
    },
    {
      "cell_type": "code",
      "execution_count": null,
      "metadata": {
        "id": "wu9u90nz9COY"
      },
      "outputs": [],
      "source": [
        "# Previsao\n",
        "y_pred_ada = ada.predict(X_test_scaled)\n",
        "accuracy_ada = accuracy_score(y_test, y_pred_ada)"
      ]
    },
    {
      "cell_type": "code",
      "execution_count": null,
      "metadata": {
        "id": "OhaQuw5h9JYa"
      },
      "outputs": [],
      "source": [
        "# Avaliacao\n",
        "print(f\"AdaBoost Accuracy: {accuracy_ada * 100:.2f}%\")"
      ]
    },
    {
      "cell_type": "markdown",
      "metadata": {
        "id": "NewdDNlKZHZ9"
      },
      "source": [
        "---\n",
        "## 12) Quadratic Discriminant Analysis (QDA) | Ícaro"
      ]
    },
    {
      "cell_type": "code",
      "execution_count": null,
      "metadata": {
        "id": "XbT8L3KAU-gS"
      },
      "outputs": [],
      "source": [
        "# Copia do dataframe\n",
        "df_qda = df_cleaned"
      ]
    },
    {
      "cell_type": "code",
      "execution_count": null,
      "metadata": {
        "id": "8Ur4cb4Rl6MZ"
      },
      "outputs": [],
      "source": [
        "from sklearn.discriminant_analysis import QuadraticDiscriminantAnalysis\n",
        "from sklearn.metrics import accuracy_score"
      ]
    },
    {
      "cell_type": "code",
      "execution_count": null,
      "metadata": {
        "id": "ANiWlF7ll7Lq"
      },
      "outputs": [],
      "source": [
        "# Separa feature de target\n",
        "X = df_qda.drop(columns=[\n",
        "    'RainTomorrow', 'Date', 'Location',\n",
        "    'WindGustDir', 'WindDir9am', 'WindDir3pm', 'RainToday'\n",
        "])\n",
        "y = df_qda['RainTomorrow']"
      ]
    },
    {
      "cell_type": "code",
      "execution_count": null,
      "metadata": {
        "id": "JaQiIfEdmNmT"
      },
      "outputs": [],
      "source": [
        "# Dividir os dados\n",
        "from sklearn.model_selection import train_test_split\n",
        "X_train, X_test, y_train, y_test = train_test_split(\n",
        "    X, y, test_size=0.2, random_state=42 )"
      ]
    },
    {
      "cell_type": "code",
      "execution_count": null,
      "metadata": {
        "id": "ti5Mnz76mb3S"
      },
      "outputs": [],
      "source": [
        "# Treinar\n",
        "qda = QuadraticDiscriminantAnalysis()\n",
        "qda.fit(X_train, y_train)"
      ]
    },
    {
      "cell_type": "code",
      "execution_count": null,
      "metadata": {
        "id": "w5hQjtmjmk8j"
      },
      "outputs": [],
      "source": [
        "y_pred_qda = qda.predict(X_test)\n",
        "accuracy_qda = accuracy_score(y_test, y_pred_qda)\n",
        "print(f\"QDA Accuracy: {accuracy_qda * 100:.2f}%\")"
      ]
    },
    {
      "cell_type": "markdown",
      "metadata": {
        "id": "1Ltqvt78VXXk"
      },
      "source": [
        "---\n",
        "# Comite Classificador:"
      ]
    },
    {
      "cell_type": "code",
      "execution_count": null,
      "metadata": {
        "id": "TdzWexFNhGnC"
      },
      "outputs": [],
      "source": [
        "# Copia do dataframe\n",
        "df_comittee = df_cleaned"
      ]
    },
    {
      "cell_type": "code",
      "execution_count": null,
      "metadata": {
        "id": "4OVngyrVmjJm"
      },
      "outputs": [],
      "source": [
        "from sklearn.ensemble import VotingClassifier\n",
        "from sklearn.model_selection import train_test_split\n",
        "from sklearn.preprocessing import LabelEncoder"
      ]
    },
    {
      "cell_type": "code",
      "execution_count": null,
      "metadata": {
        "id": "ab18ab55"
      },
      "outputs": [],
      "source": [
        "# Remover tabelas nao numericas e o target\n",
        "X_committee = df_comittee.drop(['Date', 'Location', 'RainToday', 'RainTomorrow', 'WindGustDir', 'WindDir9am', 'WindDir3pm'], axis=1)\n",
        "y_committee = df_comittee['RainTomorrow']\n",
        "\n",
        "# Converter TARGET para numerico\n",
        "le = LabelEncoder()\n",
        "y_committee = le.fit_transform(y_committee)"
      ]
    },
    {
      "cell_type": "code",
      "execution_count": null,
      "metadata": {
        "id": "m-bJJAbliMh8"
      },
      "outputs": [],
      "source": [
        "# mesma coisa dos classifiers mas para o comite\n",
        "X_train_committee, X_test_committee, y_train_committee, y_test_committee = train_test_split(X_committee, y_committee, test_size=0.2, random_state=42, stratify=y_committee)"
      ]
    },
    {
      "cell_type": "code",
      "execution_count": null,
      "metadata": {
        "id": "8Ulpfkq9nNQv"
      },
      "outputs": [],
      "source": [
        "# QUAIS CLASSIFICADORES VAO SER USADOS NO COMITE - QUANDO TERMINAREM UM ALGORITIMO NOVO, COLOCA ELE AQUI !!!!!!!!!!!!!\n",
        "estimators = [('lgbm', lgbm), ('catboost', catboost), ('xgboost', xgboost), ('perceptron', perceptron), ('svc', svc), ('adaboost', ada), ('qda', qda), ('mlp', mlp)]"
      ]
    },
    {
      "cell_type": "code",
      "execution_count": null,
      "metadata": {
        "id": "1GAAXoOCiSuP"
      },
      "outputs": [],
      "source": [
        "# Classifiers Comittee\n",
        "\n",
        "# Tipos de voting\n",
        "# 'hard' = maioria\n",
        "# 'soft' usa pesos, weights=[]\n",
        "weights_acc = [accuracy_lgbm, accuracy_cb, accuracy_mlp] # pesos sendo a acurracy de cada modelo\n",
        "\n",
        "committee = VotingClassifier(estimators=estimators, voting='hard')\n",
        "\n",
        "\n",
        "committee.fit(X_train_committee, y_train_committee)"
      ]
    },
    {
      "cell_type": "code",
      "execution_count": null,
      "metadata": {
        "id": "1DkE63ITiafk"
      },
      "outputs": [],
      "source": [
        "# Avaliacao\n",
        "\n",
        "from sklearn.metrics import f1_score\n",
        "\n",
        "# RESULTADOS COM APENAS LightGBM e CatBoost (maruan)\n",
        "# Acurracy com HARD VOTING: 85.97%\n",
        "# Acurracy com SOFT e accuracy dos algoritimos como weights: 85.86%\n",
        "# tentei fazer um grid search pelos melhores pesos mas rodou por 6 horas e crashou\n",
        "# cada vez que eu boto um algoritimo novo fica pior KKKKKKKKKKKKKKKKKKKK\n",
        "# MLPClassifier added to the committee\n",
        "\n",
        "accuracy_committee = committee.score(X_test_committee, y_test_committee)\n",
        "y_pred_committee = committee.predict(X_test_committee)\n",
        "accuracyf1_committee = f1_score(y_test_committee, y_pred_committee)\n",
        "\n",
        "\n",
        "print(f\"Classifier Committee Accuracy: {accuracy_committee * 100:.2f}%\")\n",
        "print(f\"Classifier Committee F1-score: {accuracyf1_committee * 100:.2f}%\")\n",
        "\n",
        "print('------------------------------------------')\n",
        "algorithm_names = [name for name, _ in estimators]\n",
        "print(f\"Algoritmos do Comite: {algorithm_names}\")"
      ]
    },
    {
      "cell_type": "code",
      "source": [],
      "metadata": {
        "id": "Ejrg9NMA7Bfn"
      },
      "execution_count": null,
      "outputs": []
    },
    {
      "cell_type": "code",
      "metadata": {
        "id": "931ebc65"
      },
      "source": [
        "from sklearn.metrics import roc_curve, auc\n",
        "import matplotlib.pyplot as plt\n",
        "from sklearn.preprocessing import LabelEncoder\n",
        "\n",
        "# Assuming 'estimators' list is defined and contains the trained classifiers\n",
        "# Assuming X_test and y_test are defined and preprocessed appropriately for each model\n",
        "\n",
        "plt.figure(figsize=(10, 8))\n",
        "\n",
        "# Convert y_test back to original labels if it was encoded for some models\n",
        "# This is important if some models were trained on encoded labels and others on original labels\n",
        "# Assuming y_test is in the original string format ('Yes', 'No')\n",
        "# If y_test is already encoded, you might need to adjust this part.\n",
        "# For consistency, let's use the encoded y_test which is available from previous cells.\n",
        "# Assuming y_test_encoded is available from the MLPClassifier cell\n",
        "# If not, you would need to encode it here:\n",
        "# le = LabelEncoder()\n",
        "# y_test_encoded = le.fit_transform(y_test)\n",
        "\n",
        "\n",
        "for name, model in estimators:\n",
        "    if hasattr(model, 'predict_proba'):\n",
        "        try:\n",
        "            # Ensure the input data for prediction is in the correct format and scaled if necessary for the model\n",
        "            # For simplicity, assuming X_test_scaled (from MLPClassifier cell) is suitable for all models that required scaling\n",
        "            # and X_test_committee (from Committee cell) is suitable for models that did not require scaling.\n",
        "            # You might need to adjust this based on the specific preprocessing each model used.\n",
        "            if name in ['lgbm', 'catboost', 'xgboost', 'qda']: # Models that used X_test_committee\n",
        "                 y_prob = model.predict_proba(X_test_committee)[:, 1]\n",
        "                 fpr, tpr, _ = roc_curve(y_test_committee, y_prob)\n",
        "                 roc_auc = auc(fpr, tpr)\n",
        "                 plt.plot(fpr, tpr, label=f'{name} (AUC = {roc_auc:.2f})')\n",
        "            elif name in ['perceptron', 'svc', 'adaboost', 'mlp']: # Models that used X_test_scaled\n",
        "                 y_prob = model.predict_proba(X_test_scaled)[:, 1]\n",
        "                 fpr, tpr, _ = roc_curve(y_test_encoded, y_prob) # Use y_test_encoded for models trained on encoded target\n",
        "                 roc_auc = auc(fpr, tpr)\n",
        "                 plt.plot(fpr, tpr, label=f'{name} (AUC = {roc_auc:.2f})')\n",
        "            elif name == 'rfc': # Random Forest used its own X_test and y_test\n",
        "                 # Assuming X_test and y_test from the Random Forest cell are available\n",
        "                 y_prob = model.predict_proba(X_test)[:, 1]\n",
        "                 fpr, tpr, _ = roc_curve(y_test, y_prob)\n",
        "                 roc_auc = auc(fpr, tpr)\n",
        "                 plt.plot(fpr, tpr, label=f'{name} (AUC = {roc_auc:.2f})')\n",
        "            elif name == 'knn': # KNN used its own X_test and y_test\n",
        "                 # Assuming X_test_scaled and y_test from the KNN cell are available\n",
        "                 y_prob = model.predict_proba(X_test_scaled)[:, 1] # KNN used scaled data\n",
        "                 fpr, tpr, _ = roc_curve(y_test, y_prob)\n",
        "                 roc_auc = auc(fpr, tpr)\n",
        "                 plt.plot(fpr, tpr, label=f'{name} (AUC = {roc_auc:.2f})')\n",
        "            elif name == 'gnb': # Gaussian Naive Bayes used its own X_test and y_test\n",
        "                 # Assuming X_test and y_test from the Gaussian Naive Bayes cell are available\n",
        "                 y_prob = model.predict_proba(X_test)[:, 1]\n",
        "                 fpr, tpr, _ = roc_curve(y_test, y_prob)\n",
        "                 roc_auc = auc(fpr, tpr)\n",
        "                 plt.plot(fpr, tpr, label=f'{name} (AUC = {roc_auc:.2f})')\n",
        "\n",
        "        except Exception as e:\n",
        "            print(f\"Could not plot ROC for {name}: {e}\")\n",
        "    elif hasattr(model, 'decision_function'):\n",
        "         try:\n",
        "            # Ensure the input data for prediction is in the correct format and scaled if necessary for the model\n",
        "            # Assuming X_test_scaled is suitable for SVC\n",
        "            if name == 'svc': # SVC used scaled data\n",
        "                 y_score = model.decision_function(X_test_scaled)\n",
        "                 fpr, tpr, _ = roc_curve(y_test_encoded, y_score) # Use y_test_encoded for models trained on encoded target\n",
        "                 roc_auc = auc(fpr, tpr)\n",
        "                 plt.plot(fpr, tpr, label=f'{name} (AUC = {roc_auc:.2f})')\n",
        "            else:\n",
        "                 print(f\"Model {name} has decision_function but no specific handling for its X_test.\")\n",
        "         except Exception as e:\n",
        "            print(f\"Could not plot ROC for {name}: {e}\")\n",
        "\n",
        "    else:\n",
        "        print(f\"Model {name} does not have predict_proba or decision_function.\")\n",
        "\n",
        "\n",
        "plt.plot([0, 1], [0, 1], 'k--', label='Random (AUC = 0.50)')\n",
        "plt.xlabel('False Positive Rate')\n",
        "plt.ylabel('True Positive Rate')\n",
        "plt.title('ROC Curve Comparison of Classifiers')\n",
        "plt.legend(loc='lower right')\n",
        "plt.show()"
      ],
      "execution_count": null,
      "outputs": []
    },
    {
      "cell_type": "markdown",
      "metadata": {
        "id": "jGKmlZkLdGr9"
      },
      "source": [
        "---\n",
        "#### sugestao de outros algoritmos:\n",
        "\n",
        "\n",
        "*   Logistic Regression\n",
        "*   SGDClassifier\n",
        "*   Passive Aggressive Classifier (nao sei se funcionaria aqui)\n",
        "*   Extra Trees Classifier (tipo um random forest ao quadrado)\n",
        "*   GradientBoostingClassifier\n",
        "*   HistGradientBoostingClassifier (uma versao customizada do XGBoost/LightGBM)\n",
        "*   Linear Discriminant Analysis\n",
        "*   LogitBoost\n",
        "*   Bagged Perceptrons\n",
        "*   AdaBoost com perceptrons dentro\n",
        "\n"
      ]
    }
  ],
  "metadata": {
    "colab": {
      "collapsed_sections": [
        "hELrr__oYiZx"
      ],
      "provenance": [],
      "include_colab_link": true
    },
    "kernelspec": {
      "display_name": "Python 3",
      "name": "python3"
    },
    "language_info": {
      "name": "python"
    }
  },
  "nbformat": 4,
  "nbformat_minor": 0
}